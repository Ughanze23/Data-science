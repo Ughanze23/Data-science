{
  "nbformat": 4,
  "nbformat_minor": 0,
  "metadata": {
    "colab": {
      "name": "ughanzepolycarp@gmail.com",
      "provenance": [],
      "collapsed_sections": [],
      "toc_visible": true
    },
    "kernelspec": {
      "name": "python3",
      "display_name": "Python 3"
    },
    "accelerator": "GPU"
  },
  "cells": [
    {
      "cell_type": "markdown",
      "metadata": {
        "id": "9z5xMFTYo_NZ",
        "colab_type": "text"
      },
      "source": [
        "# Challenge : Predicting Loan pre-delinquency using Random Forest classifier\n"
      ]
    },
    {
      "cell_type": "markdown",
      "metadata": {
        "id": "rdeW-eNHo_Y5",
        "colab_type": "text"
      },
      "source": [
        "## Introduction\n",
        "in this challenge i will be working with Carbon's loan disbursement dataset to predict whether or not a loan will be defaulted on or paid back.The dataset contains details about clients, their location ,  income, employment status and other features used to determine whether a loan should be given or not. The goal of this challenge is  to build both a random forest classifier and a neural network model. Once the models have been trained and tested,i will then evaluate and compare them and explain which is best.\n",
        "This notebook is organised as follows :\n",
        "1. Data Assessment\n",
        "2. Data preparation/Cleaning\n",
        "3. Building the models\n",
        "4. Model Evaluation and Comparision\n",
        "\n",
        "\n",
        "\n",
        "\n"
      ]
    },
    {
      "cell_type": "markdown",
      "metadata": {
        "id": "1b33cc9co_nk",
        "colab_type": "text"
      },
      "source": [
        ""
      ]
    },
    {
      "cell_type": "code",
      "metadata": {
        "id": "SMKVzsnhutOt",
        "colab_type": "code",
        "colab": {}
      },
      "source": [
        "#import some packages\n",
        "import pandas as pd\n",
        "import numpy as np\n",
        "import matplotlib.pyplot as plt\n",
        "import seaborn as sns\n",
        "sns.set_style('darkgrid')\n",
        "\n",
        "% matplotlib inline"
      ],
      "execution_count": 0,
      "outputs": []
    },
    {
      "cell_type": "markdown",
      "metadata": {
        "id": "10el4rHso99C",
        "colab_type": "text"
      },
      "source": [
        "## 1 Assessment and Data cleaning\n",
        "in this session i will be assessing the dataset and inspecting, if there are other data quality issues that needs cleaning. i will just perform operations to understand my dataset better and clean the data "
      ]
    },
    {
      "cell_type": "code",
      "metadata": {
        "id": "62uTbvuNvY48",
        "colab_type": "code",
        "outputId": "60dd7a76-8766-4afa-8cf1-6b5192e6eec8",
        "colab": {
          "base_uri": "https://localhost:8080/",
          "height": 71
        }
      },
      "source": [
        "#load the dataset into a pandas dataframe\n",
        "#set  na_values='Null' in read_csv to detect the nulls.\n",
        "df = pd.read_csv('paylaterloan.csv',na_values='Null')\n",
        "#set the max number of columns\n",
        "pd.options.display.max_columns = 33"
      ],
      "execution_count": 0,
      "outputs": [
        {
          "output_type": "stream",
          "text": [
            "/usr/local/lib/python3.6/dist-packages/IPython/core/interactiveshell.py:2718: DtypeWarning: Columns (18) have mixed types. Specify dtype option on import or set low_memory=False.\n",
            "  interactivity=interactivity, compiler=compiler, result=result)\n"
          ],
          "name": "stderr"
        }
      ]
    },
    {
      "cell_type": "code",
      "metadata": {
        "id": "ya9FMpLrvVC0",
        "colab_type": "code",
        "outputId": "b72cfb1f-12ae-472a-f5c4-7ae064b787a4",
        "colab": {
          "base_uri": "https://localhost:8080/",
          "height": 479
        }
      },
      "source": [
        "#preview the dataset\n",
        "df.head()"
      ],
      "execution_count": 0,
      "outputs": [
        {
          "output_type": "execute_result",
          "data": {
            "text/html": [
              "<div>\n",
              "<style scoped>\n",
              "    .dataframe tbody tr th:only-of-type {\n",
              "        vertical-align: middle;\n",
              "    }\n",
              "\n",
              "    .dataframe tbody tr th {\n",
              "        vertical-align: top;\n",
              "    }\n",
              "\n",
              "    .dataframe thead th {\n",
              "        text-align: right;\n",
              "    }\n",
              "</style>\n",
              "<table border=\"1\" class=\"dataframe\">\n",
              "  <thead>\n",
              "    <tr style=\"text-align: right;\">\n",
              "      <th></th>\n",
              "      <th>loanID</th>\n",
              "      <th>clientId</th>\n",
              "      <th>clientIncome</th>\n",
              "      <th>dueDate</th>\n",
              "      <th>incomeVerified</th>\n",
              "      <th>clientAge</th>\n",
              "      <th>clientGender</th>\n",
              "      <th>clientMaritalStatus</th>\n",
              "      <th>clientLoanPurpose</th>\n",
              "      <th>clientResidentialStauts</th>\n",
              "      <th>clientState</th>\n",
              "      <th>clientTimeAtEmployer</th>\n",
              "      <th>clientNumberPhoneContacts</th>\n",
              "      <th>clientAvgCallsPerDay</th>\n",
              "      <th>loanType</th>\n",
              "      <th>loanNumber</th>\n",
              "      <th>applicationDate</th>\n",
              "      <th>approvalDate</th>\n",
              "      <th>declinedDate</th>\n",
              "      <th>disbursementDate</th>\n",
              "      <th>payout_status</th>\n",
              "      <th>paidAt</th>\n",
              "      <th>loanAmount</th>\n",
              "      <th>interestRate</th>\n",
              "      <th>loanTerm</th>\n",
              "      <th>max_amount_taken</th>\n",
              "      <th>max_tenor_taken</th>\n",
              "      <th>repaidDate</th>\n",
              "      <th>Firstpaymentdate</th>\n",
              "      <th>settleDays</th>\n",
              "      <th>firstPaymentRatio</th>\n",
              "      <th>firstPaymentDefault</th>\n",
              "      <th>loanDefault</th>\n",
              "    </tr>\n",
              "  </thead>\n",
              "  <tbody>\n",
              "    <tr>\n",
              "      <th>0</th>\n",
              "      <td>302039538823</td>\n",
              "      <td>755398623</td>\n",
              "      <td>52500.0</td>\n",
              "      <td>2018-09-10 06:35:11 UTC</td>\n",
              "      <td>False</td>\n",
              "      <td>29</td>\n",
              "      <td>FEMALE</td>\n",
              "      <td>Single</td>\n",
              "      <td>business</td>\n",
              "      <td>Rented</td>\n",
              "      <td>KANO</td>\n",
              "      <td>7</td>\n",
              "      <td>257.0</td>\n",
              "      <td>153.000000</td>\n",
              "      <td>paylater</td>\n",
              "      <td>6</td>\n",
              "      <td>2018-07-12</td>\n",
              "      <td>2018-07-12</td>\n",
              "      <td>NaN</td>\n",
              "      <td>2018-07-12</td>\n",
              "      <td>SUCCESS</td>\n",
              "      <td>2018-09-04 11:54:00 UTC</td>\n",
              "      <td>16000</td>\n",
              "      <td>20.0</td>\n",
              "      <td>60</td>\n",
              "      <td>1</td>\n",
              "      <td>1</td>\n",
              "      <td>2018-08-01 11:30:31 UTC</td>\n",
              "      <td>2018-08-13 12:00:00 UTC</td>\n",
              "      <td>-12</td>\n",
              "      <td>0.0</td>\n",
              "      <td>0</td>\n",
              "      <td>0</td>\n",
              "    </tr>\n",
              "    <tr>\n",
              "      <th>1</th>\n",
              "      <td>302251936174</td>\n",
              "      <td>915689736</td>\n",
              "      <td>52500.0</td>\n",
              "      <td>2018-10-21 07:13:29 UTC</td>\n",
              "      <td>False</td>\n",
              "      <td>25</td>\n",
              "      <td>MALE</td>\n",
              "      <td>Single</td>\n",
              "      <td>business</td>\n",
              "      <td>Rented</td>\n",
              "      <td>LAGOS</td>\n",
              "      <td>21</td>\n",
              "      <td>3964.0</td>\n",
              "      <td>269.426415</td>\n",
              "      <td>paylater</td>\n",
              "      <td>9</td>\n",
              "      <td>2018-08-22</td>\n",
              "      <td>2018-08-22</td>\n",
              "      <td>NaN</td>\n",
              "      <td>2018-08-22</td>\n",
              "      <td>SUCCESS</td>\n",
              "      <td>2018-09-06 04:44:04 UTC</td>\n",
              "      <td>14500</td>\n",
              "      <td>15.0</td>\n",
              "      <td>60</td>\n",
              "      <td>0</td>\n",
              "      <td>1</td>\n",
              "      <td>2018-09-06 05:34:55 UTC</td>\n",
              "      <td>2018-09-21 12:00:00 UTC</td>\n",
              "      <td>-15</td>\n",
              "      <td>0.0</td>\n",
              "      <td>0</td>\n",
              "      <td>0</td>\n",
              "    </tr>\n",
              "    <tr>\n",
              "      <th>2</th>\n",
              "      <td>302270229003</td>\n",
              "      <td>292629156</td>\n",
              "      <td>35000.0</td>\n",
              "      <td>2018-10-23 11:00:00 UTC</td>\n",
              "      <td>False</td>\n",
              "      <td>32</td>\n",
              "      <td>MALE</td>\n",
              "      <td>Single</td>\n",
              "      <td>education</td>\n",
              "      <td>Rented</td>\n",
              "      <td>ANAMBRA</td>\n",
              "      <td>29</td>\n",
              "      <td>1140.0</td>\n",
              "      <td>77.147826</td>\n",
              "      <td>paylater</td>\n",
              "      <td>2</td>\n",
              "      <td>2018-08-25</td>\n",
              "      <td>2018-08-25</td>\n",
              "      <td>NaN</td>\n",
              "      <td>2018-08-25</td>\n",
              "      <td>SUCCESS</td>\n",
              "      <td>NaN</td>\n",
              "      <td>19500</td>\n",
              "      <td>15.0</td>\n",
              "      <td>60</td>\n",
              "      <td>0</td>\n",
              "      <td>1</td>\n",
              "      <td>2018-11-27 01:33:56 UTC</td>\n",
              "      <td>2018-09-24 12:00:00 UTC</td>\n",
              "      <td>64</td>\n",
              "      <td>0.0</td>\n",
              "      <td>1</td>\n",
              "      <td>1</td>\n",
              "    </tr>\n",
              "    <tr>\n",
              "      <th>3</th>\n",
              "      <td>301929229685</td>\n",
              "      <td>671710636</td>\n",
              "      <td>35000.0</td>\n",
              "      <td>2018-08-18 04:21:05 UTC</td>\n",
              "      <td>False</td>\n",
              "      <td>28</td>\n",
              "      <td>FEMALE</td>\n",
              "      <td>Married</td>\n",
              "      <td>business</td>\n",
              "      <td>Own Residence</td>\n",
              "      <td>OSUN</td>\n",
              "      <td>36+</td>\n",
              "      <td>2764.0</td>\n",
              "      <td>31.678112</td>\n",
              "      <td>paylater</td>\n",
              "      <td>4</td>\n",
              "      <td>2018-06-19</td>\n",
              "      <td>2018-06-19</td>\n",
              "      <td>NaN</td>\n",
              "      <td>2018-06-19</td>\n",
              "      <td>SUCCESS</td>\n",
              "      <td>2018-07-10 11:23:31 UTC</td>\n",
              "      <td>19500</td>\n",
              "      <td>15.0</td>\n",
              "      <td>60</td>\n",
              "      <td>1</td>\n",
              "      <td>1</td>\n",
              "      <td>2018-07-09 06:48:44 UTC</td>\n",
              "      <td>2018-07-19 12:00:00 UTC</td>\n",
              "      <td>-10</td>\n",
              "      <td>0.0</td>\n",
              "      <td>0</td>\n",
              "      <td>0</td>\n",
              "    </tr>\n",
              "    <tr>\n",
              "      <th>4</th>\n",
              "      <td>301841795739</td>\n",
              "      <td>367769827</td>\n",
              "      <td>35000.0</td>\n",
              "      <td>2018-08-01 07:31:40 UTC</td>\n",
              "      <td>False</td>\n",
              "      <td>34</td>\n",
              "      <td>MALE</td>\n",
              "      <td>Married</td>\n",
              "      <td>medical</td>\n",
              "      <td>Rented</td>\n",
              "      <td>ONDO</td>\n",
              "      <td>36+</td>\n",
              "      <td>504.0</td>\n",
              "      <td>3.000000</td>\n",
              "      <td>paylater</td>\n",
              "      <td>5</td>\n",
              "      <td>2018-06-02</td>\n",
              "      <td>2018-06-02</td>\n",
              "      <td>NaN</td>\n",
              "      <td>2018-06-02</td>\n",
              "      <td>SUCCESS</td>\n",
              "      <td>2018-08-09 06:05:37 UTC</td>\n",
              "      <td>17500</td>\n",
              "      <td>12.5</td>\n",
              "      <td>60</td>\n",
              "      <td>1</td>\n",
              "      <td>1</td>\n",
              "      <td>2018-07-14 02:28:10 UTC</td>\n",
              "      <td>2018-07-02 12:00:00 UTC</td>\n",
              "      <td>12</td>\n",
              "      <td>0.0</td>\n",
              "      <td>1</td>\n",
              "      <td>0</td>\n",
              "    </tr>\n",
              "  </tbody>\n",
              "</table>\n",
              "</div>"
            ],
            "text/plain": [
              "         loanID   clientId  clientIncome                  dueDate  \\\n",
              "0  302039538823  755398623       52500.0  2018-09-10 06:35:11 UTC   \n",
              "1  302251936174  915689736       52500.0  2018-10-21 07:13:29 UTC   \n",
              "2  302270229003  292629156       35000.0  2018-10-23 11:00:00 UTC   \n",
              "3  301929229685  671710636       35000.0  2018-08-18 04:21:05 UTC   \n",
              "4  301841795739  367769827       35000.0  2018-08-01 07:31:40 UTC   \n",
              "\n",
              "  incomeVerified  clientAge clientGender clientMaritalStatus  \\\n",
              "0          False         29       FEMALE              Single   \n",
              "1          False         25         MALE              Single   \n",
              "2          False         32         MALE              Single   \n",
              "3          False         28       FEMALE             Married   \n",
              "4          False         34         MALE             Married   \n",
              "\n",
              "  clientLoanPurpose clientResidentialStauts clientState clientTimeAtEmployer  \\\n",
              "0          business                  Rented        KANO                    7   \n",
              "1          business                  Rented       LAGOS                   21   \n",
              "2         education                  Rented     ANAMBRA                   29   \n",
              "3          business           Own Residence        OSUN                  36+   \n",
              "4           medical                  Rented        ONDO                  36+   \n",
              "\n",
              "   clientNumberPhoneContacts  clientAvgCallsPerDay  loanType  loanNumber  \\\n",
              "0                      257.0            153.000000  paylater           6   \n",
              "1                     3964.0            269.426415  paylater           9   \n",
              "2                     1140.0             77.147826  paylater           2   \n",
              "3                     2764.0             31.678112  paylater           4   \n",
              "4                      504.0              3.000000  paylater           5   \n",
              "\n",
              "  applicationDate approvalDate declinedDate disbursementDate payout_status  \\\n",
              "0      2018-07-12   2018-07-12          NaN       2018-07-12       SUCCESS   \n",
              "1      2018-08-22   2018-08-22          NaN       2018-08-22       SUCCESS   \n",
              "2      2018-08-25   2018-08-25          NaN       2018-08-25       SUCCESS   \n",
              "3      2018-06-19   2018-06-19          NaN       2018-06-19       SUCCESS   \n",
              "4      2018-06-02   2018-06-02          NaN       2018-06-02       SUCCESS   \n",
              "\n",
              "                    paidAt  loanAmount  interestRate  loanTerm  \\\n",
              "0  2018-09-04 11:54:00 UTC       16000          20.0        60   \n",
              "1  2018-09-06 04:44:04 UTC       14500          15.0        60   \n",
              "2                      NaN       19500          15.0        60   \n",
              "3  2018-07-10 11:23:31 UTC       19500          15.0        60   \n",
              "4  2018-08-09 06:05:37 UTC       17500          12.5        60   \n",
              "\n",
              "   max_amount_taken  max_tenor_taken               repaidDate  \\\n",
              "0                 1                1  2018-08-01 11:30:31 UTC   \n",
              "1                 0                1  2018-09-06 05:34:55 UTC   \n",
              "2                 0                1  2018-11-27 01:33:56 UTC   \n",
              "3                 1                1  2018-07-09 06:48:44 UTC   \n",
              "4                 1                1  2018-07-14 02:28:10 UTC   \n",
              "\n",
              "          Firstpaymentdate  settleDays  firstPaymentRatio  \\\n",
              "0  2018-08-13 12:00:00 UTC         -12                0.0   \n",
              "1  2018-09-21 12:00:00 UTC         -15                0.0   \n",
              "2  2018-09-24 12:00:00 UTC          64                0.0   \n",
              "3  2018-07-19 12:00:00 UTC         -10                0.0   \n",
              "4  2018-07-02 12:00:00 UTC          12                0.0   \n",
              "\n",
              "   firstPaymentDefault  loanDefault  \n",
              "0                    0            0  \n",
              "1                    0            0  \n",
              "2                    1            1  \n",
              "3                    0            0  \n",
              "4                    1            0  "
            ]
          },
          "metadata": {
            "tags": []
          },
          "execution_count": 9
        }
      ]
    },
    {
      "cell_type": "code",
      "metadata": {
        "id": "gs9iOQT3El_v",
        "colab_type": "code",
        "outputId": "0049f099-81bc-4523-b813-6c197857714a",
        "colab": {
          "base_uri": "https://localhost:8080/",
          "height": 663
        }
      },
      "source": [
        "#check the data types and check for null values\n",
        "df.info()"
      ],
      "execution_count": 0,
      "outputs": [
        {
          "output_type": "stream",
          "text": [
            "<class 'pandas.core.frame.DataFrame'>\n",
            "RangeIndex: 159596 entries, 0 to 159595\n",
            "Data columns (total 33 columns):\n",
            "loanID                       159596 non-null object\n",
            "clientId                     159596 non-null int64\n",
            "clientIncome                 159596 non-null float64\n",
            "dueDate                      159596 non-null object\n",
            "incomeVerified               159493 non-null object\n",
            "clientAge                    159596 non-null int64\n",
            "clientGender                 159596 non-null object\n",
            "clientMaritalStatus          159590 non-null object\n",
            "clientLoanPurpose            159596 non-null object\n",
            "clientResidentialStauts      158460 non-null object\n",
            "clientState                  159595 non-null object\n",
            "clientTimeAtEmployer         155402 non-null object\n",
            "clientNumberPhoneContacts    156888 non-null float64\n",
            "clientAvgCallsPerDay         156909 non-null float64\n",
            "loanType                     159596 non-null object\n",
            "loanNumber                   159596 non-null int64\n",
            "applicationDate              159596 non-null object\n",
            "approvalDate                 159596 non-null object\n",
            "declinedDate                 7 non-null object\n",
            "disbursementDate             159596 non-null object\n",
            "payout_status                159596 non-null object\n",
            "paidAt                       129796 non-null object\n",
            "loanAmount                   159596 non-null int64\n",
            "interestRate                 159596 non-null float64\n",
            "loanTerm                     159596 non-null int64\n",
            "max_amount_taken             159596 non-null int64\n",
            "max_tenor_taken              159596 non-null int64\n",
            "repaidDate                   140125 non-null object\n",
            "Firstpaymentdate             159596 non-null object\n",
            "settleDays                   159596 non-null int64\n",
            "firstPaymentRatio            159596 non-null float64\n",
            "firstPaymentDefault          159596 non-null int64\n",
            "loanDefault                  159596 non-null int64\n",
            "dtypes: float64(5), int64(10), object(18)\n",
            "memory usage: 40.2+ MB\n"
          ],
          "name": "stdout"
        }
      ]
    },
    {
      "cell_type": "code",
      "metadata": {
        "id": "2GQpwHPlIIay",
        "colab_type": "code",
        "outputId": "d1fe4b1e-4ee0-4798-b7bf-c54900082040",
        "colab": {
          "base_uri": "https://localhost:8080/",
          "height": 85
        }
      },
      "source": [
        "# check unique values in clientAge column\n",
        "df.clientAge.unique()"
      ],
      "execution_count": 0,
      "outputs": [
        {
          "output_type": "execute_result",
          "data": {
            "text/plain": [
              "array([ 29,  25,  32,  28,  34,  35,  40,  36,  30,  48,  31,  33,  46,\n",
              "        39,  47,  23,  42,  26,  24,  37,  27,  38,  43,  50,  22,  21,\n",
              "        44,  45,  52,  49,  54,  41,  53,  55,  59,  51,  56,  58,  57,\n",
              "        60,  20,  19, 138,  18])"
            ]
          },
          "metadata": {
            "tags": []
          },
          "execution_count": 10
        }
      ]
    },
    {
      "cell_type": "code",
      "metadata": {
        "id": "bB785ucVIUkm",
        "colab_type": "code",
        "outputId": "947f24c4-0c1b-4b16-ba1d-9a05c40bbdb1",
        "colab": {
          "base_uri": "https://localhost:8080/",
          "height": 68
        }
      },
      "source": [
        "#look up the values in incomeVerified column\n",
        "df.incomeVerified.value_counts()"
      ],
      "execution_count": 0,
      "outputs": [
        {
          "output_type": "execute_result",
          "data": {
            "text/plain": [
              "False    133286\n",
              "True      26207\n",
              "Name: incomeVerified, dtype: int64"
            ]
          },
          "metadata": {
            "tags": []
          },
          "execution_count": 11
        }
      ]
    },
    {
      "cell_type": "code",
      "metadata": {
        "id": "7XKONJVqIig3",
        "colab_type": "code",
        "outputId": "6f454408-da0b-4a6d-95f4-2d6a8636ea1b",
        "colab": {
          "base_uri": "https://localhost:8080/",
          "height": 34
        }
      },
      "source": [
        "#no duplicates\n",
        "sum(df.duplicated())"
      ],
      "execution_count": 0,
      "outputs": [
        {
          "output_type": "execute_result",
          "data": {
            "text/plain": [
              "0"
            ]
          },
          "metadata": {
            "tags": []
          },
          "execution_count": 12
        }
      ]
    },
    {
      "cell_type": "code",
      "metadata": {
        "id": "uXXKw5VEIv4z",
        "colab_type": "code",
        "outputId": "38a816d2-4a44-4ab9-e281-4f3aa6e0b48e",
        "colab": {
          "base_uri": "https://localhost:8080/",
          "height": 68
        }
      },
      "source": [
        "#check gender count of clients\n",
        "df.clientGender.value_counts()"
      ],
      "execution_count": 0,
      "outputs": [
        {
          "output_type": "execute_result",
          "data": {
            "text/plain": [
              "MALE      109666\n",
              "FEMALE     49930\n",
              "Name: clientGender, dtype: int64"
            ]
          },
          "metadata": {
            "tags": []
          },
          "execution_count": 13
        }
      ]
    },
    {
      "cell_type": "code",
      "metadata": {
        "id": "8GlSfOjEd16Y",
        "colab_type": "code",
        "outputId": "3d30b9c7-cb94-48b2-ecfd-fa1fc00fae86",
        "colab": {
          "base_uri": "https://localhost:8080/",
          "height": 34
        }
      },
      "source": [
        "#check values in column\n",
        "df.clientLoanPurpose.unique()"
      ],
      "execution_count": 0,
      "outputs": [
        {
          "output_type": "execute_result",
          "data": {
            "text/plain": [
              "array(['business', 'education', 'medical', 'other', 'house'], dtype=object)"
            ]
          },
          "metadata": {
            "tags": []
          },
          "execution_count": 14
        }
      ]
    },
    {
      "cell_type": "code",
      "metadata": {
        "id": "kcntrCP7eT2B",
        "colab_type": "code",
        "outputId": "a3bcf713-3539-4646-bd55-d5829ab0a1e8",
        "colab": {
          "base_uri": "https://localhost:8080/",
          "height": 51
        }
      },
      "source": [
        "#check marital status column\n",
        "df.clientMaritalStatus.unique()"
      ],
      "execution_count": 0,
      "outputs": [
        {
          "output_type": "execute_result",
          "data": {
            "text/plain": [
              "array(['Single', 'Married', 'Separated', 'Widowed', 'Divorced', nan],\n",
              "      dtype=object)"
            ]
          },
          "metadata": {
            "tags": []
          },
          "execution_count": 15
        }
      ]
    },
    {
      "cell_type": "code",
      "metadata": {
        "id": "cA6iy-GGfRDu",
        "colab_type": "code",
        "outputId": "cb751f7c-3331-46aa-e98c-1f782c6db2d9",
        "colab": {
          "base_uri": "https://localhost:8080/",
          "height": 51
        }
      },
      "source": [
        "df.clientResidentialStauts.unique()"
      ],
      "execution_count": 0,
      "outputs": [
        {
          "output_type": "execute_result",
          "data": {
            "text/plain": [
              "array(['Rented', 'Own Residence', 'Family Owned', 'Employer Provided',\n",
              "       'Temp. Residence', nan], dtype=object)"
            ]
          },
          "metadata": {
            "tags": []
          },
          "execution_count": 16
        }
      ]
    },
    {
      "cell_type": "code",
      "metadata": {
        "id": "Da3lD-YYehfE",
        "colab_type": "code",
        "outputId": "70289a54-e296-43b0-93ee-7661b438756f",
        "colab": {
          "base_uri": "https://localhost:8080/",
          "height": 136
        }
      },
      "source": [
        "df.clientState.unique()"
      ],
      "execution_count": 0,
      "outputs": [
        {
          "output_type": "execute_result",
          "data": {
            "text/plain": [
              "array(['KANO', 'LAGOS', 'ANAMBRA', 'OSUN', 'ONDO', 'OYO', 'RIVERS',\n",
              "       'AKWA IBOM', 'KWARA', 'ENUGU', 'ABUJA', 'OGUN', 'EDO', 'NIGER',\n",
              "       'BAYELSA', 'EKITI', 'DELTA', 'BENUE', 'CROSS RIVER', 'KADUNA',\n",
              "       'ABIA', 'PLATEAU', 'EBONYI', 'KOGI', 'IMO', 'ADAMAWA', 'JIGAWA',\n",
              "       'NASARAWA', 'KEBBI', 'KATSINA', 'BAUCHI', 'SOKOTO', 'TARABA',\n",
              "       'ZAMFARA', 'GOMBE', 'BORNO', 'YOBE', 'OJO', nan, 'LAGOS '],\n",
              "      dtype=object)"
            ]
          },
          "metadata": {
            "tags": []
          },
          "execution_count": 17
        }
      ]
    },
    {
      "cell_type": "markdown",
      "metadata": {
        "id": "aXl7PkZPFliQ",
        "colab_type": "text"
      },
      "source": [
        "### Assessment\n",
        "\n",
        "\n",
        "*   All the date columns are of the wrong datatype.\n",
        "*   clientTimeAtEmployer, is of type String instead of int and, contain Null entries.\n",
        "* clientNumberPhoneContacts and\n",
        "clientAvgCallsPerDay contain nulls\n",
        "* clientAge contains an outlier, a client aged 138 years old.\n",
        "* clientId  should not be a String data type.\n",
        "* incomeVerified column have Null entries.\n",
        "* clientResidentialStauts column have Null entries.\n",
        "* declinedDate column populated with Null entries.\n",
        "* clientResidentialStauts column wrongly splet.\n",
        "\n",
        "### Cleaning\n",
        "* Change date columns to datatime datatype.\n",
        "* Set clientTimeAtEmployer, clientNumberPhoneContacts and   clientAvgCallsPerDay to Integers and float.\n",
        "* Replace client age of 138 years with average age of clients.\n",
        "* Drop declinedDate column.\n",
        "* Set client id to String datatype.\n",
        "* Rename clientResidentialStauts column\n",
        "* Replace Null values in numeric columns  with average"
      ]
    },
    {
      "cell_type": "code",
      "metadata": {
        "id": "Qtk8-LICTGJ0",
        "colab_type": "code",
        "colab": {}
      },
      "source": [
        "#create copy of dataset\n",
        "df_cleaned = df.copy()"
      ],
      "execution_count": 0,
      "outputs": []
    },
    {
      "cell_type": "markdown",
      "metadata": {
        "id": "6xw63EShLjr-",
        "colab_type": "text"
      },
      "source": [
        "### Set date columns to datetime"
      ]
    },
    {
      "cell_type": "code",
      "metadata": {
        "id": "JLS9pf7WMDL3",
        "colab_type": "code",
        "colab": {}
      },
      "source": [
        "#create a list of date columns\n",
        "date_columns = ['applicationDate', 'approvalDate','declinedDate',\n",
        "       'disbursementDate']\n",
        "\n",
        "def toDateTime(cols):\n",
        "  for c in cols:\n",
        "   df_cleaned[c] =  pd.to_datetime(df_cleaned[c])\n",
        "\n",
        "  #call the function\n",
        "toDateTime(date_columns)"
      ],
      "execution_count": 0,
      "outputs": []
    },
    {
      "cell_type": "code",
      "metadata": {
        "id": "QG3IXJ2kNW50",
        "colab_type": "code",
        "colab": {}
      },
      "source": [
        "#a list of date columns with time-stamp\n",
        "date_ = ['repaidDate','dueDate','paidAt','Firstpaymentdate']\n",
        "#for loop\n",
        "for cols in date_:\n",
        "  df_cleaned[cols] =  pd.to_datetime(df_cleaned[cols],format='%Y-%m-%d %H:%M:%S %Z', \n",
        "                                       errors='coerce')"
      ],
      "execution_count": 0,
      "outputs": []
    },
    {
      "cell_type": "markdown",
      "metadata": {
        "id": "9sXGbQP4QZzI",
        "colab_type": "text"
      },
      "source": [
        "### Set columns to datatype float and int"
      ]
    },
    {
      "cell_type": "code",
      "metadata": {
        "id": "A3slhFpvQ6Xr",
        "colab_type": "code",
        "colab": {}
      },
      "source": [
        "#clientNumberPhoneContacts contains null entries\n",
        "#replace null with average\n",
        "df_cleaned.clientNumberPhoneContacts.fillna(df_cleaned.clientNumberPhoneContacts.mean(),inplace=True)"
      ],
      "execution_count": 0,
      "outputs": []
    },
    {
      "cell_type": "code",
      "metadata": {
        "id": "Bek5dmOe89Ta",
        "colab_type": "code",
        "outputId": "44cdd211-b854-4d10-c929-70380dcbf1ae",
        "colab": {
          "base_uri": "https://localhost:8080/",
          "height": 34
        }
      },
      "source": [
        "df_cleaned.clientNumberPhoneContacts.unique()"
      ],
      "execution_count": 0,
      "outputs": [
        {
          "output_type": "execute_result",
          "data": {
            "text/plain": [
              "array([  257.,  3964.,  1140., ..., 12887.,  7570.,  4281.])"
            ]
          },
          "metadata": {
            "tags": []
          },
          "execution_count": 17
        }
      ]
    },
    {
      "cell_type": "code",
      "metadata": {
        "id": "0GbNl_Kv8zs5",
        "colab_type": "code",
        "outputId": "5db95f14-d72a-44bb-e9c6-4884cdf884f1",
        "colab": {
          "base_uri": "https://localhost:8080/",
          "height": 34
        }
      },
      "source": [
        "df_cleaned.clientNumberPhoneContacts.dtype"
      ],
      "execution_count": 0,
      "outputs": [
        {
          "output_type": "execute_result",
          "data": {
            "text/plain": [
              "dtype('float64')"
            ]
          },
          "metadata": {
            "tags": []
          },
          "execution_count": 18
        }
      ]
    },
    {
      "cell_type": "code",
      "metadata": {
        "id": "ZK51DtJxQh4q",
        "colab_type": "code",
        "colab": {}
      },
      "source": [
        "#clientNumberPhoneContact to int\n",
        "df_cleaned.clientNumberPhoneContacts = df_cleaned.clientNumberPhoneContacts.astype(int)"
      ],
      "execution_count": 0,
      "outputs": []
    },
    {
      "cell_type": "code",
      "metadata": {
        "id": "lLZWSTkXRfqB",
        "colab_type": "code",
        "outputId": "66a531ef-37b4-486b-9449-66386a566692",
        "colab": {
          "base_uri": "https://localhost:8080/",
          "height": 34
        }
      },
      "source": [
        "#check datatype\n",
        "df_cleaned.clientNumberPhoneContacts.dtype"
      ],
      "execution_count": 0,
      "outputs": [
        {
          "output_type": "execute_result",
          "data": {
            "text/plain": [
              "dtype('int64')"
            ]
          },
          "metadata": {
            "tags": []
          },
          "execution_count": 20
        }
      ]
    },
    {
      "cell_type": "code",
      "metadata": {
        "id": "KpVr1G-3R2v7",
        "colab_type": "code",
        "colab": {}
      },
      "source": [
        "#clientAvgCallsPerDay contains null entries\n",
        "#replace null with average\n",
        "df_cleaned.clientAvgCallsPerDay.fillna(df_cleaned.clientAvgCallsPerDay.mean(),inplace=True)\n"
      ],
      "execution_count": 0,
      "outputs": []
    },
    {
      "cell_type": "code",
      "metadata": {
        "id": "5Tvr5RniRnRu",
        "colab_type": "code",
        "colab": {}
      },
      "source": [
        "# clientAvgCallsPerDay to type float\n",
        "df_cleaned.clientAvgCallsPerDay = df_cleaned.clientAvgCallsPerDay.astype(float)\n",
        "#round of to 2 significant figures\n",
        "df_cleaned.clientAvgCallsPerDay = round(df_cleaned.clientAvgCallsPerDay,2)"
      ],
      "execution_count": 0,
      "outputs": []
    },
    {
      "cell_type": "code",
      "metadata": {
        "id": "lOK8Jx4RSIG4",
        "colab_type": "code",
        "outputId": "6b8eda0c-20bf-42f9-e986-9283825170bd",
        "colab": {
          "base_uri": "https://localhost:8080/",
          "height": 34
        }
      },
      "source": [
        "#check datatype\n",
        "df_cleaned.clientAvgCallsPerDay.dtype"
      ],
      "execution_count": 0,
      "outputs": [
        {
          "output_type": "execute_result",
          "data": {
            "text/plain": [
              "dtype('float64')"
            ]
          },
          "metadata": {
            "tags": []
          },
          "execution_count": 22
        }
      ]
    },
    {
      "cell_type": "code",
      "metadata": {
        "id": "jngHZA2vSQYK",
        "colab_type": "code",
        "colab": {}
      },
      "source": [
        "#clientTimeAtEmployer contains null entries\n",
        "#replace null with '0' \n",
        "#time at employer is in months , so i am of them thinking those with negatives have not worked up to a month\n",
        "df_cleaned.clientTimeAtEmployer.fillna(0,inplace=True)"
      ],
      "execution_count": 0,
      "outputs": []
    },
    {
      "cell_type": "code",
      "metadata": {
        "id": "gPwe7o4nl_w6",
        "colab_type": "code",
        "outputId": "4afb631f-d467-48f6-d7f0-bb6b722c620c",
        "colab": {
          "base_uri": "https://localhost:8080/",
          "height": 85
        }
      },
      "source": [
        " df_cleaned.clientTimeAtEmployer.unique()"
      ],
      "execution_count": 0,
      "outputs": [
        {
          "output_type": "execute_result",
          "data": {
            "text/plain": [
              "array(['7', '21', '29', '36+', '0', '1', '27', '28', '11', '17', '18',\n",
              "       '5', '34', '26', '2', '9', '3', '16', '4', '22', '6', 0, '24',\n",
              "       '14', '19', '15', '20', '12', '13', '31', '32', '25', '33', '10',\n",
              "       '30', '8', '23', '35', '-6', '-7', '-5'], dtype=object)"
            ]
          },
          "metadata": {
            "tags": []
          },
          "execution_count": 24
        }
      ]
    },
    {
      "cell_type": "code",
      "metadata": {
        "id": "joJ1uCFUT-e6",
        "colab_type": "code",
        "colab": {}
      },
      "source": [
        "#time at employer is in months , so i am of them thinking those with negatives have not worked up to a month\n",
        "\n",
        "#replace values with '-' with '0'\n",
        "df_cleaned.clientTimeAtEmployer.replace(to_replace=['-6', '-7'],value='0', inplace=True)"
      ],
      "execution_count": 0,
      "outputs": []
    },
    {
      "cell_type": "code",
      "metadata": {
        "id": "OXzZT6lzqdv9",
        "colab_type": "code",
        "colab": {}
      },
      "source": [
        "#remove '+' in front of 36 then convert clientTimeAtEmployer to int\n",
        "df_cleaned.clientTimeAtEmployer = df_cleaned.clientTimeAtEmployer.str.rstrip('+')\n"
      ],
      "execution_count": 0,
      "outputs": []
    },
    {
      "cell_type": "code",
      "metadata": {
        "id": "PFat7hZ4-0A_",
        "colab_type": "code",
        "colab": {}
      },
      "source": [
        "#convert to float first\n",
        "df_cleaned.clientTimeAtEmployer = df_cleaned.clientTimeAtEmployer.astype(float)"
      ],
      "execution_count": 0,
      "outputs": []
    },
    {
      "cell_type": "code",
      "metadata": {
        "id": "yJsom0Gq-xr0",
        "colab_type": "code",
        "colab": {}
      },
      "source": [
        "#fill nan in type float with average\n",
        "df_cleaned.clientTimeAtEmployer.fillna(df_cleaned.clientTimeAtEmployer.mean(),inplace=True)"
      ],
      "execution_count": 0,
      "outputs": []
    },
    {
      "cell_type": "code",
      "metadata": {
        "id": "TvkbgHnWA6LT",
        "colab_type": "code",
        "colab": {}
      },
      "source": [
        "#convert to integer\n",
        "df_cleaned.clientTimeAtEmployer = df_cleaned.clientTimeAtEmployer.astype(int)"
      ],
      "execution_count": 0,
      "outputs": []
    },
    {
      "cell_type": "code",
      "metadata": {
        "id": "AwVp31obq9wE",
        "colab_type": "code",
        "outputId": "3653e3fd-3575-4582-e2db-015caf90374d",
        "colab": {
          "base_uri": "https://localhost:8080/",
          "height": 34
        }
      },
      "source": [
        "#check datatype\n",
        "df_cleaned.clientTimeAtEmployer.dtype"
      ],
      "execution_count": 0,
      "outputs": [
        {
          "output_type": "execute_result",
          "data": {
            "text/plain": [
              "dtype('int64')"
            ]
          },
          "metadata": {
            "tags": []
          },
          "execution_count": 30
        }
      ]
    },
    {
      "cell_type": "markdown",
      "metadata": {
        "id": "IXxs61duZDmt",
        "colab_type": "text"
      },
      "source": [
        "### Set clientID to string"
      ]
    },
    {
      "cell_type": "code",
      "metadata": {
        "id": "EWhFTMG2ZJcM",
        "colab_type": "code",
        "colab": {}
      },
      "source": [
        "##clientID to string\n",
        "df_cleaned.clientId = df_cleaned.clientId.astype(str)"
      ],
      "execution_count": 0,
      "outputs": []
    },
    {
      "cell_type": "code",
      "metadata": {
        "id": "IXgJHAkFZsB-",
        "colab_type": "code",
        "outputId": "99806b63-0b92-4d27-d0ff-0751c952e090",
        "colab": {
          "base_uri": "https://localhost:8080/",
          "height": 34
        }
      },
      "source": [
        "##check\n",
        "df_cleaned.clientId.dtype"
      ],
      "execution_count": 0,
      "outputs": [
        {
          "output_type": "execute_result",
          "data": {
            "text/plain": [
              "dtype('O')"
            ]
          },
          "metadata": {
            "tags": []
          },
          "execution_count": 32
        }
      ]
    },
    {
      "cell_type": "markdown",
      "metadata": {
        "id": "McendPkwZ2gC",
        "colab_type": "text"
      },
      "source": [
        "### Replace client age 138 with average age of clients"
      ]
    },
    {
      "cell_type": "code",
      "metadata": {
        "id": "Q3fpD0U6r4hT",
        "colab_type": "code",
        "colab": {}
      },
      "source": [
        "df_cleaned.clientAge.replace(138,value=33.5,inplace=True)"
      ],
      "execution_count": 0,
      "outputs": []
    },
    {
      "cell_type": "code",
      "metadata": {
        "id": "0hn3-7nwraZG",
        "colab_type": "code",
        "colab": {}
      },
      "source": [
        "#check\n",
        "df_cleaned.query('clientAge == 138')"
      ],
      "execution_count": 0,
      "outputs": []
    },
    {
      "cell_type": "markdown",
      "metadata": {
        "id": "prnaXG55YLUm",
        "colab_type": "text"
      },
      "source": [
        "### Rename clientResidentialStauts column"
      ]
    },
    {
      "cell_type": "code",
      "metadata": {
        "id": "TNhNBss_adRC",
        "colab_type": "code",
        "colab": {}
      },
      "source": [
        " df_cleaned.rename(columns={\"clientResidentialStauts\":\"clientResidentialStatus\"},inplace=True)"
      ],
      "execution_count": 0,
      "outputs": []
    },
    {
      "cell_type": "code",
      "metadata": {
        "id": "kPiAD9_kX3JC",
        "colab_type": "code",
        "outputId": "19c37702-cfba-4a14-944c-f29f5f9ec264",
        "colab": {
          "base_uri": "https://localhost:8080/",
          "height": 394
        }
      },
      "source": [
        "df_cleaned.head()"
      ],
      "execution_count": 0,
      "outputs": [
        {
          "output_type": "execute_result",
          "data": {
            "text/html": [
              "<div>\n",
              "<style scoped>\n",
              "    .dataframe tbody tr th:only-of-type {\n",
              "        vertical-align: middle;\n",
              "    }\n",
              "\n",
              "    .dataframe tbody tr th {\n",
              "        vertical-align: top;\n",
              "    }\n",
              "\n",
              "    .dataframe thead th {\n",
              "        text-align: right;\n",
              "    }\n",
              "</style>\n",
              "<table border=\"1\" class=\"dataframe\">\n",
              "  <thead>\n",
              "    <tr style=\"text-align: right;\">\n",
              "      <th></th>\n",
              "      <th>loanID</th>\n",
              "      <th>clientId</th>\n",
              "      <th>clientIncome</th>\n",
              "      <th>dueDate</th>\n",
              "      <th>incomeVerified</th>\n",
              "      <th>clientAge</th>\n",
              "      <th>clientGender</th>\n",
              "      <th>clientMaritalStatus</th>\n",
              "      <th>clientLoanPurpose</th>\n",
              "      <th>clientResidentialStatus</th>\n",
              "      <th>clientState</th>\n",
              "      <th>clientTimeAtEmployer</th>\n",
              "      <th>clientNumberPhoneContacts</th>\n",
              "      <th>clientAvgCallsPerDay</th>\n",
              "      <th>loanType</th>\n",
              "      <th>loanNumber</th>\n",
              "      <th>applicationDate</th>\n",
              "      <th>approvalDate</th>\n",
              "      <th>declinedDate</th>\n",
              "      <th>disbursementDate</th>\n",
              "      <th>payout_status</th>\n",
              "      <th>paidAt</th>\n",
              "      <th>loanAmount</th>\n",
              "      <th>interestRate</th>\n",
              "      <th>loanTerm</th>\n",
              "      <th>max_amount_taken</th>\n",
              "      <th>max_tenor_taken</th>\n",
              "      <th>repaidDate</th>\n",
              "      <th>Firstpaymentdate</th>\n",
              "      <th>settleDays</th>\n",
              "      <th>firstPaymentRatio</th>\n",
              "      <th>firstPaymentDefault</th>\n",
              "      <th>loanDefault</th>\n",
              "    </tr>\n",
              "  </thead>\n",
              "  <tbody>\n",
              "    <tr>\n",
              "      <th>0</th>\n",
              "      <td>302039538823</td>\n",
              "      <td>755398623</td>\n",
              "      <td>52500.0</td>\n",
              "      <td>2018-09-10 06:35:11</td>\n",
              "      <td>False</td>\n",
              "      <td>29.0</td>\n",
              "      <td>FEMALE</td>\n",
              "      <td>Single</td>\n",
              "      <td>business</td>\n",
              "      <td>Rented</td>\n",
              "      <td>KANO</td>\n",
              "      <td>7</td>\n",
              "      <td>257</td>\n",
              "      <td>153.00</td>\n",
              "      <td>paylater</td>\n",
              "      <td>6</td>\n",
              "      <td>2018-07-12</td>\n",
              "      <td>2018-07-12</td>\n",
              "      <td>NaT</td>\n",
              "      <td>2018-07-12</td>\n",
              "      <td>SUCCESS</td>\n",
              "      <td>2018-09-04 11:54:00</td>\n",
              "      <td>16000</td>\n",
              "      <td>20.0</td>\n",
              "      <td>60</td>\n",
              "      <td>1</td>\n",
              "      <td>1</td>\n",
              "      <td>2018-08-01 11:30:31</td>\n",
              "      <td>2018-08-13 12:00:00</td>\n",
              "      <td>-12</td>\n",
              "      <td>0.0</td>\n",
              "      <td>0</td>\n",
              "      <td>0</td>\n",
              "    </tr>\n",
              "    <tr>\n",
              "      <th>1</th>\n",
              "      <td>302251936174</td>\n",
              "      <td>915689736</td>\n",
              "      <td>52500.0</td>\n",
              "      <td>2018-10-21 07:13:29</td>\n",
              "      <td>False</td>\n",
              "      <td>25.0</td>\n",
              "      <td>MALE</td>\n",
              "      <td>Single</td>\n",
              "      <td>business</td>\n",
              "      <td>Rented</td>\n",
              "      <td>LAGOS</td>\n",
              "      <td>21</td>\n",
              "      <td>3964</td>\n",
              "      <td>269.43</td>\n",
              "      <td>paylater</td>\n",
              "      <td>9</td>\n",
              "      <td>2018-08-22</td>\n",
              "      <td>2018-08-22</td>\n",
              "      <td>NaT</td>\n",
              "      <td>2018-08-22</td>\n",
              "      <td>SUCCESS</td>\n",
              "      <td>2018-09-06 04:44:04</td>\n",
              "      <td>14500</td>\n",
              "      <td>15.0</td>\n",
              "      <td>60</td>\n",
              "      <td>0</td>\n",
              "      <td>1</td>\n",
              "      <td>2018-09-06 05:34:55</td>\n",
              "      <td>2018-09-21 12:00:00</td>\n",
              "      <td>-15</td>\n",
              "      <td>0.0</td>\n",
              "      <td>0</td>\n",
              "      <td>0</td>\n",
              "    </tr>\n",
              "    <tr>\n",
              "      <th>2</th>\n",
              "      <td>302270229003</td>\n",
              "      <td>292629156</td>\n",
              "      <td>35000.0</td>\n",
              "      <td>2018-10-23 11:00:00</td>\n",
              "      <td>False</td>\n",
              "      <td>32.0</td>\n",
              "      <td>MALE</td>\n",
              "      <td>Single</td>\n",
              "      <td>education</td>\n",
              "      <td>Rented</td>\n",
              "      <td>ANAMBRA</td>\n",
              "      <td>29</td>\n",
              "      <td>1140</td>\n",
              "      <td>77.15</td>\n",
              "      <td>paylater</td>\n",
              "      <td>2</td>\n",
              "      <td>2018-08-25</td>\n",
              "      <td>2018-08-25</td>\n",
              "      <td>NaT</td>\n",
              "      <td>2018-08-25</td>\n",
              "      <td>SUCCESS</td>\n",
              "      <td>NaT</td>\n",
              "      <td>19500</td>\n",
              "      <td>15.0</td>\n",
              "      <td>60</td>\n",
              "      <td>0</td>\n",
              "      <td>1</td>\n",
              "      <td>2018-11-27 01:33:56</td>\n",
              "      <td>2018-09-24 12:00:00</td>\n",
              "      <td>64</td>\n",
              "      <td>0.0</td>\n",
              "      <td>1</td>\n",
              "      <td>1</td>\n",
              "    </tr>\n",
              "    <tr>\n",
              "      <th>3</th>\n",
              "      <td>301929229685</td>\n",
              "      <td>671710636</td>\n",
              "      <td>35000.0</td>\n",
              "      <td>2018-08-18 04:21:05</td>\n",
              "      <td>False</td>\n",
              "      <td>28.0</td>\n",
              "      <td>FEMALE</td>\n",
              "      <td>Married</td>\n",
              "      <td>business</td>\n",
              "      <td>Own Residence</td>\n",
              "      <td>OSUN</td>\n",
              "      <td>36</td>\n",
              "      <td>2764</td>\n",
              "      <td>31.68</td>\n",
              "      <td>paylater</td>\n",
              "      <td>4</td>\n",
              "      <td>2018-06-19</td>\n",
              "      <td>2018-06-19</td>\n",
              "      <td>NaT</td>\n",
              "      <td>2018-06-19</td>\n",
              "      <td>SUCCESS</td>\n",
              "      <td>2018-07-10 11:23:31</td>\n",
              "      <td>19500</td>\n",
              "      <td>15.0</td>\n",
              "      <td>60</td>\n",
              "      <td>1</td>\n",
              "      <td>1</td>\n",
              "      <td>2018-07-09 06:48:44</td>\n",
              "      <td>2018-07-19 12:00:00</td>\n",
              "      <td>-10</td>\n",
              "      <td>0.0</td>\n",
              "      <td>0</td>\n",
              "      <td>0</td>\n",
              "    </tr>\n",
              "    <tr>\n",
              "      <th>4</th>\n",
              "      <td>301841795739</td>\n",
              "      <td>367769827</td>\n",
              "      <td>35000.0</td>\n",
              "      <td>2018-08-01 07:31:40</td>\n",
              "      <td>False</td>\n",
              "      <td>34.0</td>\n",
              "      <td>MALE</td>\n",
              "      <td>Married</td>\n",
              "      <td>medical</td>\n",
              "      <td>Rented</td>\n",
              "      <td>ONDO</td>\n",
              "      <td>36</td>\n",
              "      <td>504</td>\n",
              "      <td>3.00</td>\n",
              "      <td>paylater</td>\n",
              "      <td>5</td>\n",
              "      <td>2018-06-02</td>\n",
              "      <td>2018-06-02</td>\n",
              "      <td>NaT</td>\n",
              "      <td>2018-06-02</td>\n",
              "      <td>SUCCESS</td>\n",
              "      <td>2018-08-09 06:05:37</td>\n",
              "      <td>17500</td>\n",
              "      <td>12.5</td>\n",
              "      <td>60</td>\n",
              "      <td>1</td>\n",
              "      <td>1</td>\n",
              "      <td>2018-07-14 02:28:10</td>\n",
              "      <td>2018-07-02 12:00:00</td>\n",
              "      <td>12</td>\n",
              "      <td>0.0</td>\n",
              "      <td>1</td>\n",
              "      <td>0</td>\n",
              "    </tr>\n",
              "  </tbody>\n",
              "</table>\n",
              "</div>"
            ],
            "text/plain": [
              "         loanID   clientId  clientIncome             dueDate incomeVerified  \\\n",
              "0  302039538823  755398623       52500.0 2018-09-10 06:35:11          False   \n",
              "1  302251936174  915689736       52500.0 2018-10-21 07:13:29          False   \n",
              "2  302270229003  292629156       35000.0 2018-10-23 11:00:00          False   \n",
              "3  301929229685  671710636       35000.0 2018-08-18 04:21:05          False   \n",
              "4  301841795739  367769827       35000.0 2018-08-01 07:31:40          False   \n",
              "\n",
              "   clientAge clientGender clientMaritalStatus clientLoanPurpose  \\\n",
              "0       29.0       FEMALE              Single          business   \n",
              "1       25.0         MALE              Single          business   \n",
              "2       32.0         MALE              Single         education   \n",
              "3       28.0       FEMALE             Married          business   \n",
              "4       34.0         MALE             Married           medical   \n",
              "\n",
              "  clientResidentialStatus clientState  clientTimeAtEmployer  \\\n",
              "0                  Rented        KANO                     7   \n",
              "1                  Rented       LAGOS                    21   \n",
              "2                  Rented     ANAMBRA                    29   \n",
              "3           Own Residence        OSUN                    36   \n",
              "4                  Rented        ONDO                    36   \n",
              "\n",
              "   clientNumberPhoneContacts  clientAvgCallsPerDay  loanType  loanNumber  \\\n",
              "0                        257                153.00  paylater           6   \n",
              "1                       3964                269.43  paylater           9   \n",
              "2                       1140                 77.15  paylater           2   \n",
              "3                       2764                 31.68  paylater           4   \n",
              "4                        504                  3.00  paylater           5   \n",
              "\n",
              "  applicationDate approvalDate declinedDate disbursementDate payout_status  \\\n",
              "0      2018-07-12   2018-07-12          NaT       2018-07-12       SUCCESS   \n",
              "1      2018-08-22   2018-08-22          NaT       2018-08-22       SUCCESS   \n",
              "2      2018-08-25   2018-08-25          NaT       2018-08-25       SUCCESS   \n",
              "3      2018-06-19   2018-06-19          NaT       2018-06-19       SUCCESS   \n",
              "4      2018-06-02   2018-06-02          NaT       2018-06-02       SUCCESS   \n",
              "\n",
              "               paidAt  loanAmount  interestRate  loanTerm  max_amount_taken  \\\n",
              "0 2018-09-04 11:54:00       16000          20.0        60                 1   \n",
              "1 2018-09-06 04:44:04       14500          15.0        60                 0   \n",
              "2                 NaT       19500          15.0        60                 0   \n",
              "3 2018-07-10 11:23:31       19500          15.0        60                 1   \n",
              "4 2018-08-09 06:05:37       17500          12.5        60                 1   \n",
              "\n",
              "   max_tenor_taken          repaidDate    Firstpaymentdate  settleDays  \\\n",
              "0                1 2018-08-01 11:30:31 2018-08-13 12:00:00         -12   \n",
              "1                1 2018-09-06 05:34:55 2018-09-21 12:00:00         -15   \n",
              "2                1 2018-11-27 01:33:56 2018-09-24 12:00:00          64   \n",
              "3                1 2018-07-09 06:48:44 2018-07-19 12:00:00         -10   \n",
              "4                1 2018-07-14 02:28:10 2018-07-02 12:00:00          12   \n",
              "\n",
              "   firstPaymentRatio  firstPaymentDefault  loanDefault  \n",
              "0                0.0                    0            0  \n",
              "1                0.0                    0            0  \n",
              "2                0.0                    1            1  \n",
              "3                0.0                    0            0  \n",
              "4                0.0                    1            0  "
            ]
          },
          "metadata": {
            "tags": []
          },
          "execution_count": 35
        }
      ]
    },
    {
      "cell_type": "markdown",
      "metadata": {
        "id": "ja-2LMPwEeAh",
        "colab_type": "text"
      },
      "source": [
        "### Drop declined date rows\n",
        "I will be dropping rows which do not have nulls in them. as this is contradictory to what the feature represents, since the loan was approved it should not then turn up as declined later."
      ]
    },
    {
      "cell_type": "code",
      "metadata": {
        "id": "IbXnxeLmE9kk",
        "colab_type": "code",
        "outputId": "53b7b0ee-fc4f-41b2-98b4-a9290cf86760",
        "colab": {
          "base_uri": "https://localhost:8080/",
          "height": 524
        }
      },
      "source": [
        "df_cleaned[df_cleaned.declinedDate.isna() == False]"
      ],
      "execution_count": 0,
      "outputs": [
        {
          "output_type": "execute_result",
          "data": {
            "text/html": [
              "<div>\n",
              "<style scoped>\n",
              "    .dataframe tbody tr th:only-of-type {\n",
              "        vertical-align: middle;\n",
              "    }\n",
              "\n",
              "    .dataframe tbody tr th {\n",
              "        vertical-align: top;\n",
              "    }\n",
              "\n",
              "    .dataframe thead th {\n",
              "        text-align: right;\n",
              "    }\n",
              "</style>\n",
              "<table border=\"1\" class=\"dataframe\">\n",
              "  <thead>\n",
              "    <tr style=\"text-align: right;\">\n",
              "      <th></th>\n",
              "      <th>loanID</th>\n",
              "      <th>clientId</th>\n",
              "      <th>clientIncome</th>\n",
              "      <th>dueDate</th>\n",
              "      <th>incomeVerified</th>\n",
              "      <th>clientAge</th>\n",
              "      <th>clientGender</th>\n",
              "      <th>clientMaritalStatus</th>\n",
              "      <th>clientLoanPurpose</th>\n",
              "      <th>clientResidentialStatus</th>\n",
              "      <th>clientState</th>\n",
              "      <th>clientTimeAtEmployer</th>\n",
              "      <th>clientNumberPhoneContacts</th>\n",
              "      <th>clientAvgCallsPerDay</th>\n",
              "      <th>loanType</th>\n",
              "      <th>loanNumber</th>\n",
              "      <th>applicationDate</th>\n",
              "      <th>approvalDate</th>\n",
              "      <th>declinedDate</th>\n",
              "      <th>disbursementDate</th>\n",
              "      <th>payout_status</th>\n",
              "      <th>paidAt</th>\n",
              "      <th>loanAmount</th>\n",
              "      <th>interestRate</th>\n",
              "      <th>loanTerm</th>\n",
              "      <th>max_amount_taken</th>\n",
              "      <th>max_tenor_taken</th>\n",
              "      <th>repaidDate</th>\n",
              "      <th>Firstpaymentdate</th>\n",
              "      <th>settleDays</th>\n",
              "      <th>firstPaymentRatio</th>\n",
              "      <th>firstPaymentDefault</th>\n",
              "      <th>loanDefault</th>\n",
              "    </tr>\n",
              "  </thead>\n",
              "  <tbody>\n",
              "    <tr>\n",
              "      <th>5936</th>\n",
              "      <td>303127712</td>\n",
              "      <td>744689741</td>\n",
              "      <td>17500.0</td>\n",
              "      <td>2018-10-24 01:58:37</td>\n",
              "      <td>False</td>\n",
              "      <td>36.0</td>\n",
              "      <td>FEMALE</td>\n",
              "      <td>Married</td>\n",
              "      <td>business</td>\n",
              "      <td>Rented</td>\n",
              "      <td>LAGOS</td>\n",
              "      <td>36</td>\n",
              "      <td>3356</td>\n",
              "      <td>11.43</td>\n",
              "      <td>paylater</td>\n",
              "      <td>7</td>\n",
              "      <td>2018-04-27</td>\n",
              "      <td>2018-04-27</td>\n",
              "      <td>2018-05-07</td>\n",
              "      <td>2018-04-27</td>\n",
              "      <td>SUCCESS</td>\n",
              "      <td>NaT</td>\n",
              "      <td>73000</td>\n",
              "      <td>7.5</td>\n",
              "      <td>180</td>\n",
              "      <td>1</td>\n",
              "      <td>1</td>\n",
              "      <td>NaT</td>\n",
              "      <td>2018-05-28 12:00:00</td>\n",
              "      <td>269</td>\n",
              "      <td>1.0</td>\n",
              "      <td>1</td>\n",
              "      <td>1</td>\n",
              "    </tr>\n",
              "    <tr>\n",
              "      <th>7063</th>\n",
              "      <td>303054285</td>\n",
              "      <td>744689741</td>\n",
              "      <td>17500.0</td>\n",
              "      <td>2018-10-09 04:43:09</td>\n",
              "      <td>False</td>\n",
              "      <td>36.0</td>\n",
              "      <td>FEMALE</td>\n",
              "      <td>Married</td>\n",
              "      <td>business</td>\n",
              "      <td>Rented</td>\n",
              "      <td>LAGOS</td>\n",
              "      <td>36</td>\n",
              "      <td>3084</td>\n",
              "      <td>11.61</td>\n",
              "      <td>paylater</td>\n",
              "      <td>7</td>\n",
              "      <td>2018-04-12</td>\n",
              "      <td>2018-04-12</td>\n",
              "      <td>2018-04-18</td>\n",
              "      <td>2018-04-12</td>\n",
              "      <td>SUCCESS</td>\n",
              "      <td>NaT</td>\n",
              "      <td>73000</td>\n",
              "      <td>7.5</td>\n",
              "      <td>180</td>\n",
              "      <td>1</td>\n",
              "      <td>1</td>\n",
              "      <td>NaT</td>\n",
              "      <td>2018-05-12 12:00:00</td>\n",
              "      <td>285</td>\n",
              "      <td>1.0</td>\n",
              "      <td>1</td>\n",
              "      <td>1</td>\n",
              "    </tr>\n",
              "    <tr>\n",
              "      <th>17321</th>\n",
              "      <td>303078941</td>\n",
              "      <td>659790230</td>\n",
              "      <td>35000.0</td>\n",
              "      <td>2018-10-15 04:52:50</td>\n",
              "      <td>False</td>\n",
              "      <td>29.0</td>\n",
              "      <td>MALE</td>\n",
              "      <td>Single</td>\n",
              "      <td>education</td>\n",
              "      <td>Family Owned</td>\n",
              "      <td>LAGOS</td>\n",
              "      <td>5</td>\n",
              "      <td>346</td>\n",
              "      <td>57.32</td>\n",
              "      <td>paylater</td>\n",
              "      <td>10</td>\n",
              "      <td>2018-04-17</td>\n",
              "      <td>2018-04-17</td>\n",
              "      <td>2018-04-19</td>\n",
              "      <td>2018-04-17</td>\n",
              "      <td>SUCCESS</td>\n",
              "      <td>NaT</td>\n",
              "      <td>83000</td>\n",
              "      <td>7.5</td>\n",
              "      <td>180</td>\n",
              "      <td>0</td>\n",
              "      <td>1</td>\n",
              "      <td>NaT</td>\n",
              "      <td>2018-05-17 12:00:00</td>\n",
              "      <td>280</td>\n",
              "      <td>1.0</td>\n",
              "      <td>1</td>\n",
              "      <td>1</td>\n",
              "    </tr>\n",
              "    <tr>\n",
              "      <th>23736</th>\n",
              "      <td>302263901520</td>\n",
              "      <td>210673692</td>\n",
              "      <td>25000.0</td>\n",
              "      <td>2018-11-22 06:43:26</td>\n",
              "      <td>False</td>\n",
              "      <td>45.0</td>\n",
              "      <td>FEMALE</td>\n",
              "      <td>Married</td>\n",
              "      <td>house</td>\n",
              "      <td>Family Owned</td>\n",
              "      <td>KWARA</td>\n",
              "      <td>36</td>\n",
              "      <td>1253</td>\n",
              "      <td>16.01</td>\n",
              "      <td>paylater</td>\n",
              "      <td>4</td>\n",
              "      <td>2018-08-24</td>\n",
              "      <td>2018-08-24</td>\n",
              "      <td>2018-09-05</td>\n",
              "      <td>2018-08-24</td>\n",
              "      <td>SUCCESS</td>\n",
              "      <td>NaT</td>\n",
              "      <td>20000</td>\n",
              "      <td>12.5</td>\n",
              "      <td>90</td>\n",
              "      <td>0</td>\n",
              "      <td>1</td>\n",
              "      <td>NaT</td>\n",
              "      <td>2018-09-23 12:00:00</td>\n",
              "      <td>151</td>\n",
              "      <td>1.0</td>\n",
              "      <td>1</td>\n",
              "      <td>1</td>\n",
              "    </tr>\n",
              "    <tr>\n",
              "      <th>28414</th>\n",
              "      <td>301940309311</td>\n",
              "      <td>564984031</td>\n",
              "      <td>35000.0</td>\n",
              "      <td>2018-12-19 08:37:35</td>\n",
              "      <td>False</td>\n",
              "      <td>36.0</td>\n",
              "      <td>FEMALE</td>\n",
              "      <td>Married</td>\n",
              "      <td>education</td>\n",
              "      <td>Rented</td>\n",
              "      <td>LAGOS</td>\n",
              "      <td>36</td>\n",
              "      <td>729</td>\n",
              "      <td>0.38</td>\n",
              "      <td>paylater</td>\n",
              "      <td>4</td>\n",
              "      <td>2018-06-21</td>\n",
              "      <td>2018-06-21</td>\n",
              "      <td>2018-11-01</td>\n",
              "      <td>2018-06-22</td>\n",
              "      <td>SUCCESS</td>\n",
              "      <td>NaT</td>\n",
              "      <td>79000</td>\n",
              "      <td>7.5</td>\n",
              "      <td>180</td>\n",
              "      <td>1</td>\n",
              "      <td>1</td>\n",
              "      <td>2018-12-05 09:10:47</td>\n",
              "      <td>2018-07-23 12:00:00</td>\n",
              "      <td>135</td>\n",
              "      <td>0.0</td>\n",
              "      <td>1</td>\n",
              "      <td>1</td>\n",
              "    </tr>\n",
              "    <tr>\n",
              "      <th>39185</th>\n",
              "      <td>303060958</td>\n",
              "      <td>838864909</td>\n",
              "      <td>20000.0</td>\n",
              "      <td>2018-10-10 10:36:33</td>\n",
              "      <td>False</td>\n",
              "      <td>47.0</td>\n",
              "      <td>FEMALE</td>\n",
              "      <td>Married</td>\n",
              "      <td>business</td>\n",
              "      <td>Rented</td>\n",
              "      <td>OYO</td>\n",
              "      <td>36</td>\n",
              "      <td>1780</td>\n",
              "      <td>6.57</td>\n",
              "      <td>paylater</td>\n",
              "      <td>5</td>\n",
              "      <td>2018-04-13</td>\n",
              "      <td>2018-04-13</td>\n",
              "      <td>2018-04-18</td>\n",
              "      <td>2018-04-13</td>\n",
              "      <td>SUCCESS</td>\n",
              "      <td>NaT</td>\n",
              "      <td>60000</td>\n",
              "      <td>7.5</td>\n",
              "      <td>180</td>\n",
              "      <td>1</td>\n",
              "      <td>1</td>\n",
              "      <td>NaT</td>\n",
              "      <td>2018-05-13 12:00:00</td>\n",
              "      <td>284</td>\n",
              "      <td>1.0</td>\n",
              "      <td>1</td>\n",
              "      <td>1</td>\n",
              "    </tr>\n",
              "    <tr>\n",
              "      <th>52882</th>\n",
              "      <td>301793798267</td>\n",
              "      <td>698195772</td>\n",
              "      <td>25000.0</td>\n",
              "      <td>2018-11-20 02:41:52</td>\n",
              "      <td>True</td>\n",
              "      <td>32.0</td>\n",
              "      <td>FEMALE</td>\n",
              "      <td>Married</td>\n",
              "      <td>business</td>\n",
              "      <td>Rented</td>\n",
              "      <td>OYO</td>\n",
              "      <td>36</td>\n",
              "      <td>1923</td>\n",
              "      <td>63.45</td>\n",
              "      <td>paylater</td>\n",
              "      <td>4</td>\n",
              "      <td>2018-05-24</td>\n",
              "      <td>2018-05-24</td>\n",
              "      <td>2018-11-01</td>\n",
              "      <td>2018-05-24</td>\n",
              "      <td>SUCCESS</td>\n",
              "      <td>NaT</td>\n",
              "      <td>58000</td>\n",
              "      <td>5.0</td>\n",
              "      <td>180</td>\n",
              "      <td>1</td>\n",
              "      <td>1</td>\n",
              "      <td>2018-10-24 12:00:00</td>\n",
              "      <td>2018-06-25 12:00:00</td>\n",
              "      <td>121</td>\n",
              "      <td>0.0</td>\n",
              "      <td>1</td>\n",
              "      <td>1</td>\n",
              "    </tr>\n",
              "  </tbody>\n",
              "</table>\n",
              "</div>"
            ],
            "text/plain": [
              "             loanID   clientId  clientIncome             dueDate  \\\n",
              "5936      303127712  744689741       17500.0 2018-10-24 01:58:37   \n",
              "7063      303054285  744689741       17500.0 2018-10-09 04:43:09   \n",
              "17321     303078941  659790230       35000.0 2018-10-15 04:52:50   \n",
              "23736  302263901520  210673692       25000.0 2018-11-22 06:43:26   \n",
              "28414  301940309311  564984031       35000.0 2018-12-19 08:37:35   \n",
              "39185     303060958  838864909       20000.0 2018-10-10 10:36:33   \n",
              "52882  301793798267  698195772       25000.0 2018-11-20 02:41:52   \n",
              "\n",
              "      incomeVerified  clientAge clientGender clientMaritalStatus  \\\n",
              "5936           False       36.0       FEMALE             Married   \n",
              "7063           False       36.0       FEMALE             Married   \n",
              "17321          False       29.0         MALE              Single   \n",
              "23736          False       45.0       FEMALE             Married   \n",
              "28414          False       36.0       FEMALE             Married   \n",
              "39185          False       47.0       FEMALE             Married   \n",
              "52882           True       32.0       FEMALE             Married   \n",
              "\n",
              "      clientLoanPurpose clientResidentialStatus clientState  \\\n",
              "5936           business                  Rented       LAGOS   \n",
              "7063           business                  Rented       LAGOS   \n",
              "17321         education            Family Owned       LAGOS   \n",
              "23736             house            Family Owned       KWARA   \n",
              "28414         education                  Rented       LAGOS   \n",
              "39185          business                  Rented         OYO   \n",
              "52882          business                  Rented         OYO   \n",
              "\n",
              "       clientTimeAtEmployer  clientNumberPhoneContacts  clientAvgCallsPerDay  \\\n",
              "5936                     36                       3356                 11.43   \n",
              "7063                     36                       3084                 11.61   \n",
              "17321                     5                        346                 57.32   \n",
              "23736                    36                       1253                 16.01   \n",
              "28414                    36                        729                  0.38   \n",
              "39185                    36                       1780                  6.57   \n",
              "52882                    36                       1923                 63.45   \n",
              "\n",
              "       loanType  loanNumber applicationDate approvalDate declinedDate  \\\n",
              "5936   paylater           7      2018-04-27   2018-04-27   2018-05-07   \n",
              "7063   paylater           7      2018-04-12   2018-04-12   2018-04-18   \n",
              "17321  paylater          10      2018-04-17   2018-04-17   2018-04-19   \n",
              "23736  paylater           4      2018-08-24   2018-08-24   2018-09-05   \n",
              "28414  paylater           4      2018-06-21   2018-06-21   2018-11-01   \n",
              "39185  paylater           5      2018-04-13   2018-04-13   2018-04-18   \n",
              "52882  paylater           4      2018-05-24   2018-05-24   2018-11-01   \n",
              "\n",
              "      disbursementDate payout_status paidAt  loanAmount  interestRate  \\\n",
              "5936        2018-04-27       SUCCESS    NaT       73000           7.5   \n",
              "7063        2018-04-12       SUCCESS    NaT       73000           7.5   \n",
              "17321       2018-04-17       SUCCESS    NaT       83000           7.5   \n",
              "23736       2018-08-24       SUCCESS    NaT       20000          12.5   \n",
              "28414       2018-06-22       SUCCESS    NaT       79000           7.5   \n",
              "39185       2018-04-13       SUCCESS    NaT       60000           7.5   \n",
              "52882       2018-05-24       SUCCESS    NaT       58000           5.0   \n",
              "\n",
              "       loanTerm  max_amount_taken  max_tenor_taken          repaidDate  \\\n",
              "5936        180                 1                1                 NaT   \n",
              "7063        180                 1                1                 NaT   \n",
              "17321       180                 0                1                 NaT   \n",
              "23736        90                 0                1                 NaT   \n",
              "28414       180                 1                1 2018-12-05 09:10:47   \n",
              "39185       180                 1                1                 NaT   \n",
              "52882       180                 1                1 2018-10-24 12:00:00   \n",
              "\n",
              "         Firstpaymentdate  settleDays  firstPaymentRatio  firstPaymentDefault  \\\n",
              "5936  2018-05-28 12:00:00         269                1.0                    1   \n",
              "7063  2018-05-12 12:00:00         285                1.0                    1   \n",
              "17321 2018-05-17 12:00:00         280                1.0                    1   \n",
              "23736 2018-09-23 12:00:00         151                1.0                    1   \n",
              "28414 2018-07-23 12:00:00         135                0.0                    1   \n",
              "39185 2018-05-13 12:00:00         284                1.0                    1   \n",
              "52882 2018-06-25 12:00:00         121                0.0                    1   \n",
              "\n",
              "       loanDefault  \n",
              "5936             1  \n",
              "7063             1  \n",
              "17321            1  \n",
              "23736            1  \n",
              "28414            1  \n",
              "39185            1  \n",
              "52882            1  "
            ]
          },
          "metadata": {
            "tags": []
          },
          "execution_count": 43
        }
      ]
    },
    {
      "cell_type": "code",
      "metadata": {
        "id": "qRDDDGNMFk1R",
        "colab_type": "code",
        "colab": {}
      },
      "source": [
        "#drop rows without declineddate null\n",
        "df_cleaned = df_cleaned[df_cleaned.declinedDate.isna()]"
      ],
      "execution_count": 0,
      "outputs": []
    },
    {
      "cell_type": "code",
      "metadata": {
        "id": "OjvENrxsHLbY",
        "colab_type": "code",
        "outputId": "62ebf19e-5ac8-4e72-e050-58f4a9e293e6",
        "colab": {
          "base_uri": "https://localhost:8080/",
          "height": 34
        }
      },
      "source": [
        "# 7 rows where dropped\n",
        "df_cleaned.shape"
      ],
      "execution_count": 0,
      "outputs": [
        {
          "output_type": "execute_result",
          "data": {
            "text/plain": [
              "(159589, 33)"
            ]
          },
          "metadata": {
            "tags": []
          },
          "execution_count": 45
        }
      ]
    },
    {
      "cell_type": "markdown",
      "metadata": {
        "id": "ehynBQx5vb5i",
        "colab_type": "text"
      },
      "source": [
        "## #Investigate the loan default distribution of classes"
      ]
    },
    {
      "cell_type": "code",
      "metadata": {
        "id": "l5E1NlDqvwyH",
        "colab_type": "code",
        "outputId": "4b2dc249-d80e-4a83-cf03-8858037f8c43",
        "colab": {
          "base_uri": "https://localhost:8080/",
          "height": 68
        }
      },
      "source": [
        "#check count of  classes in loan default\n",
        "df_cleaned.loanDefault.value_counts()"
      ],
      "execution_count": 0,
      "outputs": [
        {
          "output_type": "execute_result",
          "data": {
            "text/plain": [
              "0    115304\n",
              "1     44285\n",
              "Name: loanDefault, dtype: int64"
            ]
          },
          "metadata": {
            "tags": []
          },
          "execution_count": 198
        }
      ]
    },
    {
      "cell_type": "code",
      "metadata": {
        "id": "IijbV_36C5Gm",
        "colab_type": "code",
        "outputId": "2d74ecbe-4af2-4db1-ac83-f4c815175a8a",
        "colab": {
          "base_uri": "https://localhost:8080/",
          "height": 34
        }
      },
      "source": [
        "#proportion of defaults\n",
        "#proportion of people who pay loans\n",
        "round(df_cleaned.loanDefault.value_counts()[0]/len(df),2)"
      ],
      "execution_count": 0,
      "outputs": [
        {
          "output_type": "execute_result",
          "data": {
            "text/plain": [
              "0.72"
            ]
          },
          "metadata": {
            "tags": []
          },
          "execution_count": 199
        }
      ]
    },
    {
      "cell_type": "code",
      "metadata": {
        "id": "Xi-dPuLuDKZg",
        "colab_type": "code",
        "outputId": "e6b72d0c-7a58-4850-93b3-50eba859114e",
        "colab": {
          "base_uri": "https://localhost:8080/",
          "height": 34
        }
      },
      "source": [
        "#proportion of defaulters \n",
        "round(df.loanDefault.value_counts()[1]/len(df),2)"
      ],
      "execution_count": 0,
      "outputs": [
        {
          "output_type": "execute_result",
          "data": {
            "text/plain": [
              "0.28"
            ]
          },
          "metadata": {
            "tags": []
          },
          "execution_count": 200
        }
      ]
    },
    {
      "cell_type": "markdown",
      "metadata": {
        "id": "j6M9Mf85DOBE",
        "colab_type": "text"
      },
      "source": [
        "28% are defaulters and 72% paid back their loans."
      ]
    },
    {
      "cell_type": "markdown",
      "metadata": {
        "id": "2FF-ljGovyH1",
        "colab_type": "text"
      },
      "source": [
        "## 3. Data preparation\n",
        "in this section i will perform several operations to prepare my data for training. i will handle missing values, one-hot-encode categorical data, balance the classes, select relevant features i deem fit and split my data into a training and testing set."
      ]
    },
    {
      "cell_type": "markdown",
      "metadata": {
        "id": "dKsRbDoOwWsU",
        "colab_type": "text"
      },
      "source": [
        "### Missing Values\n",
        "some of the features contained Nulls, i have taken care of the numerical features with nulls above. i would fill the categorical features that have nulls with The mode (Most frequent value.) then change all to type category.\n",
        "\n",
        "Categorical columns with nulls :\n",
        "clientMaritalStatus , clientState, clientResidentialStatus,\n",
        "IncomeVerified.\n"
      ]
    },
    {
      "cell_type": "markdown",
      "metadata": {
        "id": "bVNpyG6kJOew",
        "colab_type": "text"
      },
      "source": [
        "**ClientMaritalStatus**"
      ]
    },
    {
      "cell_type": "code",
      "metadata": {
        "id": "tUeouL3JHZ0t",
        "colab_type": "code",
        "outputId": "b9823a52-8ed3-44d5-c9ba-a68799c3ab4a",
        "colab": {
          "base_uri": "https://localhost:8080/",
          "height": 119
        }
      },
      "source": [
        "#clientMaritalStatus\n",
        "#find the mode\n",
        "df_cleaned.clientMaritalStatus.value_counts()"
      ],
      "execution_count": 0,
      "outputs": [
        {
          "output_type": "execute_result",
          "data": {
            "text/plain": [
              "Married      85486\n",
              "Single       71360\n",
              "Separated     1795\n",
              "Widowed        939\n",
              "Divorced         3\n",
              "Name: clientMaritalStatus, dtype: int64"
            ]
          },
          "metadata": {
            "tags": []
          },
          "execution_count": 39
        }
      ]
    },
    {
      "cell_type": "code",
      "metadata": {
        "id": "2zKINsuOHlXk",
        "colab_type": "code",
        "colab": {}
      },
      "source": [
        "#replace null with Mode which is Married\n",
        "df_cleaned.clientMaritalStatus.fillna('Married',inplace=True)"
      ],
      "execution_count": 0,
      "outputs": []
    },
    {
      "cell_type": "code",
      "metadata": {
        "id": "PaIzW3SwIX3u",
        "colab_type": "code",
        "outputId": "41766b2c-20e3-4a32-922f-f3fdde1cc91d",
        "colab": {
          "base_uri": "https://localhost:8080/",
          "height": 34
        }
      },
      "source": [
        "#check\n",
        "sum(df_cleaned.clientMaritalStatus.isna())"
      ],
      "execution_count": 0,
      "outputs": [
        {
          "output_type": "execute_result",
          "data": {
            "text/plain": [
              "0"
            ]
          },
          "metadata": {
            "tags": []
          },
          "execution_count": 85
        }
      ]
    },
    {
      "cell_type": "code",
      "metadata": {
        "id": "MXM-eNrDH9Sk",
        "colab_type": "code",
        "colab": {}
      },
      "source": [
        "#set data type to category\n",
        "df_cleaned.clientMaritalStatus = df_cleaned.clientMaritalStatus.astype('category')"
      ],
      "execution_count": 0,
      "outputs": []
    },
    {
      "cell_type": "code",
      "metadata": {
        "id": "lwdrQAb-ITEN",
        "colab_type": "code",
        "outputId": "358bb4e2-1b03-429b-9ca3-a874d76ace8b",
        "colab": {
          "base_uri": "https://localhost:8080/",
          "height": 54
        }
      },
      "source": [
        "#check data type\n",
        "df_cleaned.clientMaritalStatus.dtype"
      ],
      "execution_count": 0,
      "outputs": [
        {
          "output_type": "execute_result",
          "data": {
            "text/plain": [
              "CategoricalDtype(categories=['Divorced', 'Married', 'Separated', 'Single', 'Widowed'], ordered=False)"
            ]
          },
          "metadata": {
            "tags": []
          },
          "execution_count": 42
        }
      ]
    },
    {
      "cell_type": "markdown",
      "metadata": {
        "id": "UtSdPXoOJKjC",
        "colab_type": "text"
      },
      "source": [
        "**ClientState**"
      ]
    },
    {
      "cell_type": "code",
      "metadata": {
        "id": "mD6b6YF-I65A",
        "colab_type": "code",
        "outputId": "727492da-4c84-4028-b20d-092248b3a065",
        "colab": {
          "base_uri": "https://localhost:8080/",
          "height": 697
        }
      },
      "source": [
        "#clientState\n",
        "#find the mode\n",
        "df_cleaned.clientState.value_counts()"
      ],
      "execution_count": 0,
      "outputs": [
        {
          "output_type": "execute_result",
          "data": {
            "text/plain": [
              "LAGOS          60662\n",
              "OGUN           14798\n",
              "ABUJA          13999\n",
              "OYO            12729\n",
              "RIVERS          7829\n",
              "DELTA           5081\n",
              "KWARA           3968\n",
              "OSUN            3816\n",
              "ONDO            3571\n",
              "KADUNA          3496\n",
              "EDO             2663\n",
              "NIGER           2462\n",
              "BENUE           2043\n",
              "EKITI           2023\n",
              "AKWA IBOM       1960\n",
              "KOGI            1896\n",
              "PLATEAU         1715\n",
              "CROSS RIVER     1608\n",
              "NASARAWA        1589\n",
              "ENUGU           1566\n",
              "ANAMBRA         1496\n",
              "ABIA            1426\n",
              "IMO             1287\n",
              "KANO            1233\n",
              "BAYELSA         1179\n",
              "ADAMAWA          569\n",
              "BAUCHI           418\n",
              "SOKOTO           398\n",
              "EBONYI           392\n",
              "TARABA           336\n",
              "KEBBI            279\n",
              "GOMBE            265\n",
              "KATSINA          248\n",
              "ZAMFARA          221\n",
              "BORNO            210\n",
              "YOBE              83\n",
              "JIGAWA            72\n",
              "LAGOS              1\n",
              "OJO                1\n",
              "Name: clientState, dtype: int64"
            ]
          },
          "metadata": {
            "tags": []
          },
          "execution_count": 43
        }
      ]
    },
    {
      "cell_type": "code",
      "metadata": {
        "id": "2BrFiwd6JB2r",
        "colab_type": "code",
        "colab": {}
      },
      "source": [
        "#replace null with Mode which is Lagos\n",
        "df_cleaned.clientState.fillna('LAGOS',inplace=True)"
      ],
      "execution_count": 0,
      "outputs": []
    },
    {
      "cell_type": "code",
      "metadata": {
        "id": "-Dx7WRU6DIG9",
        "colab_type": "code",
        "colab": {}
      },
      "source": [
        "#rename OJO to OYO State\n",
        "df_cleaned.clientState.replace(\"OJO\",value=\"OYO\",inplace=True)"
      ],
      "execution_count": 0,
      "outputs": []
    },
    {
      "cell_type": "code",
      "metadata": {
        "id": "geGCyWn2JH_M",
        "colab_type": "code",
        "colab": {}
      },
      "source": [
        "#set data type to category\n",
        "df_cleaned.clientMaritalStatus = df_cleaned.clientState.astype('category')"
      ],
      "execution_count": 0,
      "outputs": []
    },
    {
      "cell_type": "markdown",
      "metadata": {
        "id": "3h3e-y3uJXbC",
        "colab_type": "text"
      },
      "source": [
        "**clientResidentialStatus**"
      ]
    },
    {
      "cell_type": "code",
      "metadata": {
        "id": "4NFCs-DYJcOu",
        "colab_type": "code",
        "outputId": "9f0a642c-e6a9-44bc-e584-63b3af2b4dc5",
        "colab": {
          "base_uri": "https://localhost:8080/",
          "height": 119
        }
      },
      "source": [
        "#find the mode\n",
        "df_cleaned.clientResidentialStatus.value_counts()"
      ],
      "execution_count": 0,
      "outputs": [
        {
          "output_type": "execute_result",
          "data": {
            "text/plain": [
              "Rented               100529\n",
              "Own Residence         26406\n",
              "Family Owned          25666\n",
              "Employer Provided      5589\n",
              "Temp. Residence         263\n",
              "Name: clientResidentialStatus, dtype: int64"
            ]
          },
          "metadata": {
            "tags": []
          },
          "execution_count": 47
        }
      ]
    },
    {
      "cell_type": "code",
      "metadata": {
        "id": "3a2uXwPRJcHR",
        "colab_type": "code",
        "colab": {}
      },
      "source": [
        "#replace null with Mode which is Rented\n",
        "df_cleaned.clientResidentialStatus.fillna('Rented',inplace=True)"
      ],
      "execution_count": 0,
      "outputs": []
    },
    {
      "cell_type": "code",
      "metadata": {
        "id": "2XPhKfZ6Jb9s",
        "colab_type": "code",
        "colab": {}
      },
      "source": [
        "#set data type to category\n",
        "df_cleaned.clientResidentialStatus = df_cleaned.clientResidentialStatus.astype('category')"
      ],
      "execution_count": 0,
      "outputs": []
    },
    {
      "cell_type": "markdown",
      "metadata": {
        "id": "8FI5dd59JitA",
        "colab_type": "text"
      },
      "source": [
        "**IncomeVerified**"
      ]
    },
    {
      "cell_type": "code",
      "metadata": {
        "id": "0pQY0ndFJkUP",
        "colab_type": "code",
        "outputId": "9158f46c-6102-49b9-f1ee-3c78d5e05f15",
        "colab": {
          "base_uri": "https://localhost:8080/",
          "height": 68
        }
      },
      "source": [
        "#find the mode\n",
        "df_cleaned.incomeVerified.value_counts()\n"
      ],
      "execution_count": 0,
      "outputs": [
        {
          "output_type": "execute_result",
          "data": {
            "text/plain": [
              "False    133280\n",
              "True      26206\n",
              "Name: incomeVerified, dtype: int64"
            ]
          },
          "metadata": {
            "tags": []
          },
          "execution_count": 50
        }
      ]
    },
    {
      "cell_type": "code",
      "metadata": {
        "id": "SGkGsRmOJkK9",
        "colab_type": "code",
        "colab": {}
      },
      "source": [
        "#replace null with Mode which is False\n",
        "df_cleaned.incomeVerified.fillna('False',inplace=True)"
      ],
      "execution_count": 0,
      "outputs": []
    },
    {
      "cell_type": "code",
      "metadata": {
        "id": "5C59fKOuJkAJ",
        "colab_type": "code",
        "colab": {}
      },
      "source": [
        "#set data type to category\n",
        "df_cleaned.incomeVerified = df_cleaned.incomeVerified.astype('category')"
      ],
      "execution_count": 0,
      "outputs": []
    },
    {
      "cell_type": "markdown",
      "metadata": {
        "id": "4HH-25PlJsKq",
        "colab_type": "text"
      },
      "source": [
        "**Set remaining categorical data to type category**"
      ]
    },
    {
      "cell_type": "code",
      "metadata": {
        "id": "Tx2_6llRLRWA",
        "colab_type": "code",
        "colab": {}
      },
      "source": [
        "#set data type to category\n",
        "df_cleaned.clientGender = df_cleaned.clientGender.astype('category')\n",
        "df_cleaned.clientLoanPurpose = df_cleaned.clientLoanPurpose.astype('category')"
      ],
      "execution_count": 0,
      "outputs": []
    },
    {
      "cell_type": "code",
      "metadata": {
        "id": "NVWCkdZnHCau",
        "colab_type": "code",
        "colab": {}
      },
      "source": [
        "#save data\n",
        "df_cleaned.to_csv('cleanData',index=False)"
      ],
      "execution_count": 0,
      "outputs": []
    },
    {
      "cell_type": "markdown",
      "metadata": {
        "id": "Hl4BdDwLuinl",
        "colab_type": "text"
      },
      "source": [
        "### One-hot-encoding\n",
        "Many machine learning algorithms cannot work with categorical data directly. The categories must be converted into numbers. so i will be performing One-hot-encoding on certain categorical features. before this i will select my X features and create my ouput Y(Label)."
      ]
    },
    {
      "cell_type": "code",
      "metadata": {
        "id": "d5MLCzdHDyKn",
        "colab_type": "code",
        "colab": {}
      },
      "source": [
        "#select Features\n",
        "X = df_cleaned[['clientIncome', 'incomeVerified', 'clientAge',\n",
        "       'clientGender', 'clientMaritalStatus', 'clientLoanPurpose',\n",
        "       'clientResidentialStatus', 'clientState', 'clientTimeAtEmployer',\n",
        "       'clientNumberPhoneContacts', 'clientAvgCallsPerDay','loanNumber','loanAmount',\n",
        "       'interestRate', 'loanTerm', 'max_amount_taken', 'max_tenor_taken','settleDays', 'firstPaymentRatio','firstPaymentDefault']]\n",
        "Y = df_cleaned['loanDefault']"
      ],
      "execution_count": 0,
      "outputs": []
    },
    {
      "cell_type": "code",
      "metadata": {
        "id": "b7jlXPVwEyVl",
        "colab_type": "code",
        "outputId": "faf0870e-e3a1-4fdc-de41-588eeae418fb",
        "colab": {
          "base_uri": "https://localhost:8080/",
          "height": 34
        }
      },
      "source": [
        "#20 features selected\n",
        "X.shape"
      ],
      "execution_count": 0,
      "outputs": [
        {
          "output_type": "execute_result",
          "data": {
            "text/plain": [
              "(159589, 20)"
            ]
          },
          "metadata": {
            "tags": []
          },
          "execution_count": 58
        }
      ]
    },
    {
      "cell_type": "code",
      "metadata": {
        "id": "rmulcUvnE64u",
        "colab_type": "code",
        "outputId": "f1b4201d-aaa6-4153-d796-aed1e5e1f041",
        "colab": {
          "base_uri": "https://localhost:8080/",
          "height": 34
        }
      },
      "source": [
        "len(Y)"
      ],
      "execution_count": 0,
      "outputs": [
        {
          "output_type": "execute_result",
          "data": {
            "text/plain": [
              "159589"
            ]
          },
          "metadata": {
            "tags": []
          },
          "execution_count": 57
        }
      ]
    },
    {
      "cell_type": "code",
      "metadata": {
        "id": "BTGuGb_xEs4k",
        "colab_type": "code",
        "colab": {}
      },
      "source": [
        "#one hot encode categorical features\n",
        "X = pd.get_dummies(X,columns=['clientMaritalStatus','incomeVerified','clientResidentialStatus','clientGender','clientState','clientLoanPurpose'])"
      ],
      "execution_count": 0,
      "outputs": []
    },
    {
      "cell_type": "code",
      "metadata": {
        "id": "MHg70VprGDVC",
        "colab_type": "code",
        "outputId": "c118edcc-ef81-4daf-d133-230ea8193e9c",
        "colab": {
          "base_uri": "https://localhost:8080/",
          "height": 253
        }
      },
      "source": [
        "X.head()"
      ],
      "execution_count": 0,
      "outputs": [
        {
          "output_type": "execute_result",
          "data": {
            "text/html": [
              "<div>\n",
              "<style scoped>\n",
              "    .dataframe tbody tr th:only-of-type {\n",
              "        vertical-align: middle;\n",
              "    }\n",
              "\n",
              "    .dataframe tbody tr th {\n",
              "        vertical-align: top;\n",
              "    }\n",
              "\n",
              "    .dataframe thead th {\n",
              "        text-align: right;\n",
              "    }\n",
              "</style>\n",
              "<table border=\"1\" class=\"dataframe\">\n",
              "  <thead>\n",
              "    <tr style=\"text-align: right;\">\n",
              "      <th></th>\n",
              "      <th>clientIncome</th>\n",
              "      <th>clientAge</th>\n",
              "      <th>clientTimeAtEmployer</th>\n",
              "      <th>clientNumberPhoneContacts</th>\n",
              "      <th>clientAvgCallsPerDay</th>\n",
              "      <th>loanNumber</th>\n",
              "      <th>loanAmount</th>\n",
              "      <th>interestRate</th>\n",
              "      <th>loanTerm</th>\n",
              "      <th>max_amount_taken</th>\n",
              "      <th>max_tenor_taken</th>\n",
              "      <th>settleDays</th>\n",
              "      <th>firstPaymentRatio</th>\n",
              "      <th>firstPaymentDefault</th>\n",
              "      <th>clientMaritalStatus_ABIA</th>\n",
              "      <th>clientMaritalStatus_ABUJA</th>\n",
              "      <th>...</th>\n",
              "      <th>clientState_NIGER</th>\n",
              "      <th>clientState_OGUN</th>\n",
              "      <th>clientState_ONDO</th>\n",
              "      <th>clientState_OSUN</th>\n",
              "      <th>clientState_OYO</th>\n",
              "      <th>clientState_PLATEAU</th>\n",
              "      <th>clientState_RIVERS</th>\n",
              "      <th>clientState_SOKOTO</th>\n",
              "      <th>clientState_TARABA</th>\n",
              "      <th>clientState_YOBE</th>\n",
              "      <th>clientState_ZAMFARA</th>\n",
              "      <th>clientLoanPurpose_business</th>\n",
              "      <th>clientLoanPurpose_education</th>\n",
              "      <th>clientLoanPurpose_house</th>\n",
              "      <th>clientLoanPurpose_medical</th>\n",
              "      <th>clientLoanPurpose_other</th>\n",
              "    </tr>\n",
              "  </thead>\n",
              "  <tbody>\n",
              "    <tr>\n",
              "      <th>0</th>\n",
              "      <td>52500.0</td>\n",
              "      <td>29.0</td>\n",
              "      <td>7</td>\n",
              "      <td>257</td>\n",
              "      <td>153.00</td>\n",
              "      <td>6</td>\n",
              "      <td>16000</td>\n",
              "      <td>20.0</td>\n",
              "      <td>60</td>\n",
              "      <td>1</td>\n",
              "      <td>1</td>\n",
              "      <td>-12</td>\n",
              "      <td>0.0</td>\n",
              "      <td>0</td>\n",
              "      <td>0</td>\n",
              "      <td>0</td>\n",
              "      <td>...</td>\n",
              "      <td>0</td>\n",
              "      <td>0</td>\n",
              "      <td>0</td>\n",
              "      <td>0</td>\n",
              "      <td>0</td>\n",
              "      <td>0</td>\n",
              "      <td>0</td>\n",
              "      <td>0</td>\n",
              "      <td>0</td>\n",
              "      <td>0</td>\n",
              "      <td>0</td>\n",
              "      <td>1</td>\n",
              "      <td>0</td>\n",
              "      <td>0</td>\n",
              "      <td>0</td>\n",
              "      <td>0</td>\n",
              "    </tr>\n",
              "    <tr>\n",
              "      <th>1</th>\n",
              "      <td>52500.0</td>\n",
              "      <td>25.0</td>\n",
              "      <td>21</td>\n",
              "      <td>3964</td>\n",
              "      <td>269.43</td>\n",
              "      <td>9</td>\n",
              "      <td>14500</td>\n",
              "      <td>15.0</td>\n",
              "      <td>60</td>\n",
              "      <td>0</td>\n",
              "      <td>1</td>\n",
              "      <td>-15</td>\n",
              "      <td>0.0</td>\n",
              "      <td>0</td>\n",
              "      <td>0</td>\n",
              "      <td>0</td>\n",
              "      <td>...</td>\n",
              "      <td>0</td>\n",
              "      <td>0</td>\n",
              "      <td>0</td>\n",
              "      <td>0</td>\n",
              "      <td>0</td>\n",
              "      <td>0</td>\n",
              "      <td>0</td>\n",
              "      <td>0</td>\n",
              "      <td>0</td>\n",
              "      <td>0</td>\n",
              "      <td>0</td>\n",
              "      <td>1</td>\n",
              "      <td>0</td>\n",
              "      <td>0</td>\n",
              "      <td>0</td>\n",
              "      <td>0</td>\n",
              "    </tr>\n",
              "    <tr>\n",
              "      <th>2</th>\n",
              "      <td>35000.0</td>\n",
              "      <td>32.0</td>\n",
              "      <td>29</td>\n",
              "      <td>1140</td>\n",
              "      <td>77.15</td>\n",
              "      <td>2</td>\n",
              "      <td>19500</td>\n",
              "      <td>15.0</td>\n",
              "      <td>60</td>\n",
              "      <td>0</td>\n",
              "      <td>1</td>\n",
              "      <td>64</td>\n",
              "      <td>0.0</td>\n",
              "      <td>1</td>\n",
              "      <td>0</td>\n",
              "      <td>0</td>\n",
              "      <td>...</td>\n",
              "      <td>0</td>\n",
              "      <td>0</td>\n",
              "      <td>0</td>\n",
              "      <td>0</td>\n",
              "      <td>0</td>\n",
              "      <td>0</td>\n",
              "      <td>0</td>\n",
              "      <td>0</td>\n",
              "      <td>0</td>\n",
              "      <td>0</td>\n",
              "      <td>0</td>\n",
              "      <td>0</td>\n",
              "      <td>1</td>\n",
              "      <td>0</td>\n",
              "      <td>0</td>\n",
              "      <td>0</td>\n",
              "    </tr>\n",
              "    <tr>\n",
              "      <th>3</th>\n",
              "      <td>35000.0</td>\n",
              "      <td>28.0</td>\n",
              "      <td>36</td>\n",
              "      <td>2764</td>\n",
              "      <td>31.68</td>\n",
              "      <td>4</td>\n",
              "      <td>19500</td>\n",
              "      <td>15.0</td>\n",
              "      <td>60</td>\n",
              "      <td>1</td>\n",
              "      <td>1</td>\n",
              "      <td>-10</td>\n",
              "      <td>0.0</td>\n",
              "      <td>0</td>\n",
              "      <td>0</td>\n",
              "      <td>0</td>\n",
              "      <td>...</td>\n",
              "      <td>0</td>\n",
              "      <td>0</td>\n",
              "      <td>0</td>\n",
              "      <td>1</td>\n",
              "      <td>0</td>\n",
              "      <td>0</td>\n",
              "      <td>0</td>\n",
              "      <td>0</td>\n",
              "      <td>0</td>\n",
              "      <td>0</td>\n",
              "      <td>0</td>\n",
              "      <td>1</td>\n",
              "      <td>0</td>\n",
              "      <td>0</td>\n",
              "      <td>0</td>\n",
              "      <td>0</td>\n",
              "    </tr>\n",
              "    <tr>\n",
              "      <th>4</th>\n",
              "      <td>35000.0</td>\n",
              "      <td>34.0</td>\n",
              "      <td>36</td>\n",
              "      <td>504</td>\n",
              "      <td>3.00</td>\n",
              "      <td>5</td>\n",
              "      <td>17500</td>\n",
              "      <td>12.5</td>\n",
              "      <td>60</td>\n",
              "      <td>1</td>\n",
              "      <td>1</td>\n",
              "      <td>12</td>\n",
              "      <td>0.0</td>\n",
              "      <td>1</td>\n",
              "      <td>0</td>\n",
              "      <td>0</td>\n",
              "      <td>...</td>\n",
              "      <td>0</td>\n",
              "      <td>0</td>\n",
              "      <td>1</td>\n",
              "      <td>0</td>\n",
              "      <td>0</td>\n",
              "      <td>0</td>\n",
              "      <td>0</td>\n",
              "      <td>0</td>\n",
              "      <td>0</td>\n",
              "      <td>0</td>\n",
              "      <td>0</td>\n",
              "      <td>0</td>\n",
              "      <td>0</td>\n",
              "      <td>0</td>\n",
              "      <td>1</td>\n",
              "      <td>0</td>\n",
              "    </tr>\n",
              "  </tbody>\n",
              "</table>\n",
              "<p>5 rows × 105 columns</p>\n",
              "</div>"
            ],
            "text/plain": [
              "   clientIncome  clientAge  clientTimeAtEmployer  clientNumberPhoneContacts  \\\n",
              "0       52500.0       29.0                     7                        257   \n",
              "1       52500.0       25.0                    21                       3964   \n",
              "2       35000.0       32.0                    29                       1140   \n",
              "3       35000.0       28.0                    36                       2764   \n",
              "4       35000.0       34.0                    36                        504   \n",
              "\n",
              "   clientAvgCallsPerDay  loanNumber  loanAmount  interestRate  loanTerm  \\\n",
              "0                153.00           6       16000          20.0        60   \n",
              "1                269.43           9       14500          15.0        60   \n",
              "2                 77.15           2       19500          15.0        60   \n",
              "3                 31.68           4       19500          15.0        60   \n",
              "4                  3.00           5       17500          12.5        60   \n",
              "\n",
              "   max_amount_taken  max_tenor_taken  settleDays  firstPaymentRatio  \\\n",
              "0                 1                1         -12                0.0   \n",
              "1                 0                1         -15                0.0   \n",
              "2                 0                1          64                0.0   \n",
              "3                 1                1         -10                0.0   \n",
              "4                 1                1          12                0.0   \n",
              "\n",
              "   firstPaymentDefault  clientMaritalStatus_ABIA  clientMaritalStatus_ABUJA  \\\n",
              "0                    0                         0                          0   \n",
              "1                    0                         0                          0   \n",
              "2                    1                         0                          0   \n",
              "3                    0                         0                          0   \n",
              "4                    1                         0                          0   \n",
              "\n",
              "            ...             clientState_NIGER  clientState_OGUN  \\\n",
              "0           ...                             0                 0   \n",
              "1           ...                             0                 0   \n",
              "2           ...                             0                 0   \n",
              "3           ...                             0                 0   \n",
              "4           ...                             0                 0   \n",
              "\n",
              "   clientState_ONDO  clientState_OSUN  clientState_OYO  clientState_PLATEAU  \\\n",
              "0                 0                 0                0                    0   \n",
              "1                 0                 0                0                    0   \n",
              "2                 0                 0                0                    0   \n",
              "3                 0                 1                0                    0   \n",
              "4                 1                 0                0                    0   \n",
              "\n",
              "   clientState_RIVERS  clientState_SOKOTO  clientState_TARABA  \\\n",
              "0                   0                   0                   0   \n",
              "1                   0                   0                   0   \n",
              "2                   0                   0                   0   \n",
              "3                   0                   0                   0   \n",
              "4                   0                   0                   0   \n",
              "\n",
              "   clientState_YOBE  clientState_ZAMFARA  clientLoanPurpose_business  \\\n",
              "0                 0                    0                           1   \n",
              "1                 0                    0                           1   \n",
              "2                 0                    0                           0   \n",
              "3                 0                    0                           1   \n",
              "4                 0                    0                           0   \n",
              "\n",
              "   clientLoanPurpose_education  clientLoanPurpose_house  \\\n",
              "0                            0                        0   \n",
              "1                            0                        0   \n",
              "2                            1                        0   \n",
              "3                            0                        0   \n",
              "4                            0                        0   \n",
              "\n",
              "   clientLoanPurpose_medical  clientLoanPurpose_other  \n",
              "0                          0                        0  \n",
              "1                          0                        0  \n",
              "2                          0                        0  \n",
              "3                          0                        0  \n",
              "4                          1                        0  \n",
              "\n",
              "[5 rows x 105 columns]"
            ]
          },
          "metadata": {
            "tags": []
          },
          "execution_count": 60
        }
      ]
    },
    {
      "cell_type": "code",
      "metadata": {
        "id": "XdsZYZ8iPMSW",
        "colab_type": "code",
        "outputId": "ccfe0ae2-d7ec-4ec6-ca21-5236b8aef106",
        "colab": {
          "base_uri": "https://localhost:8080/",
          "height": 1071
        }
      },
      "source": [
        "X.dtypes"
      ],
      "execution_count": 0,
      "outputs": [
        {
          "output_type": "execute_result",
          "data": {
            "text/plain": [
              "clientIncome                       float64\n",
              "clientAge                          float64\n",
              "clientTimeAtEmployer                 int64\n",
              "clientNumberPhoneContacts            int64\n",
              "clientAvgCallsPerDay               float64\n",
              "loanNumber                           int64\n",
              "loanAmount                           int64\n",
              "interestRate                       float64\n",
              "loanTerm                             int64\n",
              "max_amount_taken                     int64\n",
              "max_tenor_taken                      int64\n",
              "settleDays                           int64\n",
              "firstPaymentRatio                  float64\n",
              "firstPaymentDefault                  int64\n",
              "clientMaritalStatus_ABIA             uint8\n",
              "clientMaritalStatus_ABUJA            uint8\n",
              "clientMaritalStatus_ADAMAWA          uint8\n",
              "clientMaritalStatus_AKWA IBOM        uint8\n",
              "clientMaritalStatus_ANAMBRA          uint8\n",
              "clientMaritalStatus_BAUCHI           uint8\n",
              "clientMaritalStatus_BAYELSA          uint8\n",
              "clientMaritalStatus_BENUE            uint8\n",
              "clientMaritalStatus_BORNO            uint8\n",
              "clientMaritalStatus_CROSS RIVER      uint8\n",
              "clientMaritalStatus_DELTA            uint8\n",
              "clientMaritalStatus_EBONYI           uint8\n",
              "clientMaritalStatus_EDO              uint8\n",
              "clientMaritalStatus_EKITI            uint8\n",
              "clientMaritalStatus_ENUGU            uint8\n",
              "clientMaritalStatus_GOMBE            uint8\n",
              "                                    ...   \n",
              "clientState_EKITI                    uint8\n",
              "clientState_ENUGU                    uint8\n",
              "clientState_GOMBE                    uint8\n",
              "clientState_IMO                      uint8\n",
              "clientState_JIGAWA                   uint8\n",
              "clientState_KADUNA                   uint8\n",
              "clientState_KANO                     uint8\n",
              "clientState_KATSINA                  uint8\n",
              "clientState_KEBBI                    uint8\n",
              "clientState_KOGI                     uint8\n",
              "clientState_KWARA                    uint8\n",
              "clientState_LAGOS                    uint8\n",
              "clientState_LAGOS                    uint8\n",
              "clientState_NASARAWA                 uint8\n",
              "clientState_NIGER                    uint8\n",
              "clientState_OGUN                     uint8\n",
              "clientState_ONDO                     uint8\n",
              "clientState_OSUN                     uint8\n",
              "clientState_OYO                      uint8\n",
              "clientState_PLATEAU                  uint8\n",
              "clientState_RIVERS                   uint8\n",
              "clientState_SOKOTO                   uint8\n",
              "clientState_TARABA                   uint8\n",
              "clientState_YOBE                     uint8\n",
              "clientState_ZAMFARA                  uint8\n",
              "clientLoanPurpose_business           uint8\n",
              "clientLoanPurpose_education          uint8\n",
              "clientLoanPurpose_house              uint8\n",
              "clientLoanPurpose_medical            uint8\n",
              "clientLoanPurpose_other              uint8\n",
              "Length: 105, dtype: object"
            ]
          },
          "metadata": {
            "tags": []
          },
          "execution_count": 61
        }
      ]
    },
    {
      "cell_type": "markdown",
      "metadata": {
        "id": "9zPgLtRDvAyV",
        "colab_type": "text"
      },
      "source": [
        "### Train and Test split\n",
        "i will Split the data into training set (70%), and test set (30%). Training set will be used to fit the model, and test set will be to evaluate the best model."
      ]
    },
    {
      "cell_type": "code",
      "metadata": {
        "id": "cR5wvG_pGSXC",
        "colab_type": "code",
        "colab": {}
      },
      "source": [
        "# Using Skicit-learn to split data into training and testing sets\n",
        "from sklearn.model_selection import train_test_split\n",
        "# Split the data into training and testing sets\n",
        "X_train,Y_train,X_labels,Y_labels = train_test_split(X, Y, test_size = 0.3, random_state = 42)"
      ],
      "execution_count": 0,
      "outputs": []
    },
    {
      "cell_type": "markdown",
      "metadata": {
        "id": "y0tZQolpvdef",
        "colab_type": "text"
      },
      "source": [
        "### Balance the Classes\n",
        "Classification problems in most real world applications have imbalanced data sets. In other words, the positive examples (minority class) are a lot less than negative examples (majority class). in our dataset we have 72% (no default)negative values and 28% positive(loan default).class imbalance influences a learning algorithm during training by making the decision rule biased towards the majority class, that optimizes the model to make predictions based on the majority class in the dataset. so i am going  to balance the data set to achieve a model that is able to generalize and make good predictions on the minority class.\n"
      ]
    },
    {
      "cell_type": "markdown",
      "metadata": {
        "id": "4BMu_ECCwhUY",
        "colab_type": "text"
      },
      "source": [
        "## 4. Buliding The Models.\n",
        "The next step is to build the models. i will build a random forest and neural network, that both perform a binary classification on each loan.\n",
        "the section is divided into the two different Classifiers, i will be building. Also i will perform hyper parameter tuning on both models to improve their performance. The following Metrics, will be used to evaluate our final models.\n",
        "\n",
        "1.  **Accuracy** :\n",
        "It’s the ratio of the correctly labeled subjects to the whole pool of subjects.\n",
        "Accuracy is the most intuitive one.\n",
        "2. **Precision** :\n",
        "Precision is the ratio of the correctly +ve labeled by our program to all +ve labeled.\n",
        "3. **Recall ** :\n",
        "Recall is the ratio of the correctly +ve labeled by our program to all who are diabetic in reality.\n",
        "4. ** F1-score**\n",
        "F1 Score is the weighted average of precision and recall.\n",
        "5. ** Auc ** :If you randomly chose one positive and one negative observation, AUC represents the likelihood that your classifier will assign a higher predicted probability to the positive observation."
      ]
    },
    {
      "cell_type": "markdown",
      "metadata": {
        "id": "5Hj5xmSLHouw",
        "colab_type": "text"
      },
      "source": [
        ".**General Flow**:\n",
        "I will first build a base model, then do hyper parameter tuning, select the model with the best parameters. then use class balancing techiques  on the best model to build a model that predicts the minority class with higher accuracy(recall) i.e improving the Recall of the model. after training each model i scored each model using Kfold Cv  and Auc metric then evaluate model performance on test set. Cross-validation is primarily used in applied machine learning to estimate the skill of a machine learning model on unseen data. That is, to use a limited sample in order to estimate how the model is expected to perform in general when used to make predictions on data not used during the training of the model."
      ]
    },
    {
      "cell_type": "markdown",
      "metadata": {
        "id": "j3eUOhODwdwi",
        "colab_type": "text"
      },
      "source": [
        "## Random Forest Classifier\n",
        "Most important hyperparameters of Random Forest:\n",
        "* n_estimators = n of trees\n",
        "* max_features = max number of features considered for splitting a node\n",
        "* max_depth = max number of levels in each decision tree\n",
        "* min_samples_split = min number of data points placed in a node before the node is split\n",
        "* min_samples_leaf = min number of data points allowed in a leaf node\n",
        "* bootstrap = method for sampling data points (with or without replacement)\n",
        "\n",
        "\n",
        "\n"
      ]
    },
    {
      "cell_type": "markdown",
      "metadata": {
        "id": "kBoPHlvsIEW3",
        "colab_type": "text"
      },
      "source": [
        "**Build base model**"
      ]
    },
    {
      "cell_type": "code",
      "metadata": {
        "id": "cHS0y3jwILiw",
        "colab_type": "code",
        "colab": {}
      },
      "source": [
        "#import evaluation metrics\n",
        "from sklearn.metrics import roc_auc_score, accuracy_score, precision_score, recall_score, f1_score\n",
        "#import classifier\n",
        "from sklearn.ensemble import RandomForestClassifier"
      ],
      "execution_count": 0,
      "outputs": []
    },
    {
      "cell_type": "code",
      "metadata": {
        "id": "MCJPIcucIcLK",
        "colab_type": "code",
        "colab": {}
      },
      "source": [
        "# Instantiate model\n",
        "base_rf = RandomForestClassifier(random_state=42)"
      ],
      "execution_count": 0,
      "outputs": []
    },
    {
      "cell_type": "code",
      "metadata": {
        "id": "MXclMysHIl3U",
        "colab_type": "code",
        "outputId": "5f80760f-3a44-4535-e260-9824c2307153",
        "colab": {
          "base_uri": "https://localhost:8080/",
          "height": 173
        }
      },
      "source": [
        "# Train the model on training data\n",
        "base_rf.fit(X_train,X_labels)"
      ],
      "execution_count": 0,
      "outputs": [
        {
          "output_type": "stream",
          "text": [
            "/usr/local/lib/python3.6/dist-packages/sklearn/ensemble/forest.py:246: FutureWarning: The default value of n_estimators will change from 10 in version 0.20 to 100 in 0.22.\n",
            "  \"10 in version 0.20 to 100 in 0.22.\", FutureWarning)\n"
          ],
          "name": "stderr"
        },
        {
          "output_type": "execute_result",
          "data": {
            "text/plain": [
              "RandomForestClassifier(bootstrap=True, class_weight=None, criterion='gini',\n",
              "            max_depth=None, max_features='auto', max_leaf_nodes=None,\n",
              "            min_impurity_decrease=0.0, min_impurity_split=None,\n",
              "            min_samples_leaf=1, min_samples_split=2,\n",
              "            min_weight_fraction_leaf=0.0, n_estimators=10, n_jobs=None,\n",
              "            oob_score=False, random_state=42, verbose=0, warm_start=False)"
            ]
          },
          "metadata": {
            "tags": []
          },
          "execution_count": 37
        }
      ]
    },
    {
      "cell_type": "code",
      "metadata": {
        "id": "TEasR1MKP-9i",
        "colab_type": "code",
        "colab": {}
      },
      "source": [
        "#score the model based on the AUC\n",
        "#first with Cv\n",
        "from sklearn.model_selection import cross_val_score"
      ],
      "execution_count": 0,
      "outputs": []
    },
    {
      "cell_type": "code",
      "metadata": {
        "id": "jIBGD3kQQSHg",
        "colab_type": "code",
        "colab": {}
      },
      "source": [
        "#model performance after training\n",
        "base_score = cross_val_score(base_rf,X_train, X_labels,\n",
        "                         scoring=\"roc_auc\", cv=10)"
      ],
      "execution_count": 0,
      "outputs": []
    },
    {
      "cell_type": "code",
      "metadata": {
        "id": "gTUtOnaLRKjs",
        "colab_type": "code",
        "outputId": "c44a8fed-467c-4ec7-d11b-51afbb893d2f",
        "colab": {
          "base_uri": "https://localhost:8080/",
          "height": 34
        }
      },
      "source": [
        "#AUC \n",
        "base_score.mean()"
      ],
      "execution_count": 0,
      "outputs": [
        {
          "output_type": "execute_result",
          "data": {
            "text/plain": [
              "0.874788073428107"
            ]
          },
          "metadata": {
            "tags": []
          },
          "execution_count": 43
        }
      ]
    },
    {
      "cell_type": "code",
      "metadata": {
        "id": "vzi13gVQMFJE",
        "colab_type": "code",
        "colab": {}
      },
      "source": [
        "#predict\n",
        "base_predict = base_rf.predict(Y_train)"
      ],
      "execution_count": 0,
      "outputs": []
    },
    {
      "cell_type": "markdown",
      "metadata": {
        "id": "XOoeQSp5Mh3s",
        "colab_type": "text"
      },
      "source": [
        "**Evaluate the performance of base model on test data**"
      ]
    },
    {
      "cell_type": "code",
      "metadata": {
        "id": "nAQv1zaMMXrh",
        "colab_type": "code",
        "outputId": "38474efa-0b7d-4060-e535-09b4e9fd5635",
        "colab": {
          "base_uri": "https://localhost:8080/",
          "height": 34
        }
      },
      "source": [
        "#accuracy\n",
        "accuracy_score(base_predict,Y_labels)"
      ],
      "execution_count": 0,
      "outputs": [
        {
          "output_type": "execute_result",
          "data": {
            "text/plain": [
              "0.8672431438895503"
            ]
          },
          "metadata": {
            "tags": []
          },
          "execution_count": 46
        }
      ]
    },
    {
      "cell_type": "code",
      "metadata": {
        "id": "TsWJT5c-Mx3W",
        "colab_type": "code",
        "outputId": "dd6a9084-004d-46a3-dbf2-afee38b59553",
        "colab": {
          "base_uri": "https://localhost:8080/",
          "height": 34
        }
      },
      "source": [
        "#recall\n",
        "recall_score(Y_labels,base_predict)"
      ],
      "execution_count": 0,
      "outputs": [
        {
          "output_type": "execute_result",
          "data": {
            "text/plain": [
              "0.5995316159250585"
            ]
          },
          "metadata": {
            "tags": []
          },
          "execution_count": 47
        }
      ]
    },
    {
      "cell_type": "code",
      "metadata": {
        "id": "2Qb8PmabM-my",
        "colab_type": "code",
        "outputId": "3b3c5e77-eb7c-4777-f2b3-d81eb3ae3fb3",
        "colab": {
          "base_uri": "https://localhost:8080/",
          "height": 34
        }
      },
      "source": [
        "#Precision\n",
        "precision_score(Y_labels,base_predict)"
      ],
      "execution_count": 0,
      "outputs": [
        {
          "output_type": "execute_result",
          "data": {
            "text/plain": [
              "0.8826604382159938"
            ]
          },
          "metadata": {
            "tags": []
          },
          "execution_count": 48
        }
      ]
    },
    {
      "cell_type": "code",
      "metadata": {
        "id": "DgY_p1I0NKPf",
        "colab_type": "code",
        "outputId": "671c3047-9150-42af-db19-2d0399d9bcb3",
        "colab": {
          "base_uri": "https://localhost:8080/",
          "height": 34
        }
      },
      "source": [
        "#f1 score\n",
        "f1_score(Y_labels,base_predict)"
      ],
      "execution_count": 0,
      "outputs": [
        {
          "output_type": "execute_result",
          "data": {
            "text/plain": [
              "0.7140543458700738"
            ]
          },
          "metadata": {
            "tags": []
          },
          "execution_count": 49
        }
      ]
    },
    {
      "cell_type": "markdown",
      "metadata": {
        "id": "9Eflqnq3woty",
        "colab_type": "text"
      },
      "source": [
        "### Hyperparameter tuning\n",
        "in machine learning, hyperparameter optimization or tuning is the problem of choosing a set of optimal hyperparameters for a learning algorithm. A hyperparameter is a parameter whose value is used to control the learning process. By contrast, the values of other parameters (typically node weights) are learned. i will be performing both Random Search and Grid Search techniques."
      ]
    },
    {
      "cell_type": "markdown",
      "metadata": {
        "id": "TAKZd_NSz8FA",
        "colab_type": "text"
      },
      "source": [
        "### Random Search\n",
        "Random search is a technique where random combinations of the hyperparameters are used to find the best solution for the built model. i am going to evaluate a wide range of values for each hyperparameter to find the best. Using Scikit-Learn’s RandomizedSearchCV method, we can define a grid of hyperparameter ranges, and randomly sample from the grid."
      ]
    },
    {
      "cell_type": "code",
      "metadata": {
        "id": "x-tFnd3_htIq",
        "colab_type": "code",
        "colab": {}
      },
      "source": [
        "#random search\n",
        "from sklearn.model_selection import RandomizedSearchCV\n",
        "# Number of trees in random forest\n",
        "n_estimators = [int(x) for x in np.linspace(start = 25, stop = 100, num = 3)]\n",
        "# Number of features to consider at every split\n",
        "max_features = ['auto', 'sqrt']\n",
        "# Maximum number of levels in tree\n",
        "max_depth = [int(x) for x in np.linspace(5, 10, num = 20)]\n",
        "max_depth.append(None)\n",
        "# Minimum number of samples required to split a node\n",
        "min_samples_split = [2, 5, 10]\n",
        "# Minimum number of samples required at each leaf node\n",
        "min_samples_leaf = [1, 2, 4]\n",
        "# Method of selecting samples for training each tree\n",
        "bootstrap = [True, False]\n",
        "# Create the random grid\n",
        "random_grid = {'n_estimators': n_estimators,\n",
        "               'max_features': max_features,\n",
        "               'max_depth': max_depth,\n",
        "               'min_samples_split': min_samples_split,\n",
        "               'min_samples_leaf': min_samples_leaf,\n",
        "               'bootstrap': bootstrap}"
      ],
      "execution_count": 0,
      "outputs": []
    },
    {
      "cell_type": "code",
      "metadata": {
        "id": "m6XIjP1-h2K1",
        "colab_type": "code",
        "colab": {}
      },
      "source": [
        "## Use the random grid to search for best hyperparameters\n",
        "# Random search of parameters, using 3 fold cross validation, \n",
        "# search across 100 different combinations, and use all available cores\n",
        "rf_random = RandomizedSearchCV(estimator = base_rf, param_distributions = random_grid,scoring='roc_auc', n_iter = 100, cv = 3, verbose=2, random_state=42, n_jobs = -1)"
      ],
      "execution_count": 0,
      "outputs": []
    },
    {
      "cell_type": "code",
      "metadata": {
        "id": "APn7Qx_WTocY",
        "colab_type": "code",
        "outputId": "5b5d88bf-7f16-46c9-b2eb-533f1e5b05d0",
        "colab": {
          "base_uri": "https://localhost:8080/",
          "height": 343
        }
      },
      "source": [
        "# Fit the random search model\n",
        "rf_random.fit(X_train,X_labels)"
      ],
      "execution_count": 0,
      "outputs": [
        {
          "output_type": "stream",
          "text": [
            "Fitting 3 folds for each of 100 candidates, totalling 300 fits\n"
          ],
          "name": "stdout"
        },
        {
          "output_type": "stream",
          "text": [
            "[Parallel(n_jobs=-1)]: Using backend LokyBackend with 2 concurrent workers.\n",
            "/usr/local/lib/python3.6/dist-packages/sklearn/externals/joblib/externals/loky/process_executor.py:706: UserWarning: A worker stopped while some jobs were given to the executor. This can be caused by a too short worker timeout or by a memory leak.\n",
            "  \"timeout or by a memory leak.\", UserWarning\n",
            "[Parallel(n_jobs=-1)]: Done  37 tasks      | elapsed:  3.5min\n",
            "[Parallel(n_jobs=-1)]: Done 158 tasks      | elapsed: 12.3min\n",
            "[Parallel(n_jobs=-1)]: Done 300 out of 300 | elapsed: 23.0min finished\n"
          ],
          "name": "stderr"
        },
        {
          "output_type": "execute_result",
          "data": {
            "text/plain": [
              "RandomizedSearchCV(cv=3, error_score='raise-deprecating',\n",
              "          estimator=RandomForestClassifier(bootstrap=True, class_weight=None, criterion='gini',\n",
              "            max_depth=None, max_features='auto', max_leaf_nodes=None,\n",
              "            min_impurity_decrease=0.0, min_impurity_split=None,\n",
              "            min_samples_leaf=1, min_samples_split=2,\n",
              "            min_weight_fraction_leaf=0.0, n_estimators=10, n_jobs=None,\n",
              "            oob_score=False, random_state=42, verbose=0, warm_start=False),\n",
              "          fit_params=None, iid='warn', n_iter=100, n_jobs=-1,\n",
              "          param_distributions={'n_estimators': [25, 62, 100], 'max_features': ['auto', 'sqrt'], 'max_depth': [5, 5, 5, 5, 6, 6, 6, 6, 7, 7, 7, 7, 8, 8, 8, 8, 9, 9, 9, 10, None], 'min_samples_split': [2, 5, 10], 'min_samples_leaf': [1, 2, 4], 'bootstrap': [True, False]},\n",
              "          pre_dispatch='2*n_jobs', random_state=42, refit=True,\n",
              "          return_train_score='warn', scoring='roc_auc', verbose=2)"
            ]
          },
          "metadata": {
            "tags": []
          },
          "execution_count": 109
        }
      ]
    },
    {
      "cell_type": "code",
      "metadata": {
        "id": "vZyQ5TEQVW52",
        "colab_type": "code",
        "outputId": "c8110f23-040c-4980-ef6e-29fa9c32db87",
        "colab": {
          "base_uri": "https://localhost:8080/",
          "height": 34
        }
      },
      "source": [
        "rf_random.best_score_"
      ],
      "execution_count": 0,
      "outputs": [
        {
          "output_type": "execute_result",
          "data": {
            "text/plain": [
              "0.9034379397792716"
            ]
          },
          "metadata": {
            "tags": []
          },
          "execution_count": 116
        }
      ]
    },
    {
      "cell_type": "code",
      "metadata": {
        "id": "6asyMD-MVdWg",
        "colab_type": "code",
        "outputId": "251dbe5d-4f00-4617-f6d8-0146132a52be",
        "colab": {
          "base_uri": "https://localhost:8080/",
          "height": 119
        }
      },
      "source": [
        "rf_random.best_params_"
      ],
      "execution_count": 0,
      "outputs": [
        {
          "output_type": "execute_result",
          "data": {
            "text/plain": [
              "{'bootstrap': True,\n",
              " 'max_depth': 10,\n",
              " 'max_features': 'sqrt',\n",
              " 'min_samples_leaf': 2,\n",
              " 'min_samples_split': 5,\n",
              " 'n_estimators': 100}"
            ]
          },
          "metadata": {
            "tags": []
          },
          "execution_count": 117
        }
      ]
    },
    {
      "cell_type": "code",
      "metadata": {
        "id": "Ww1yudJeVm0t",
        "colab_type": "code",
        "colab": {}
      },
      "source": [
        "#set the best model to best_grid\n",
        "rf_random = rf_random.best_estimator_"
      ],
      "execution_count": 0,
      "outputs": []
    },
    {
      "cell_type": "code",
      "metadata": {
        "id": "IgqYy9DsWEge",
        "colab_type": "code",
        "colab": {}
      },
      "source": [
        "#score the model\n",
        "random_score = cross_val_score(rf_random,X_train, X_labels,\n",
        "                         scoring=\"roc_auc\", cv=10)"
      ],
      "execution_count": 0,
      "outputs": []
    },
    {
      "cell_type": "code",
      "metadata": {
        "id": "D2MoAswlWjrv",
        "colab_type": "code",
        "outputId": "25605481-b8ea-4929-8ef3-ab218ec3177b",
        "colab": {
          "base_uri": "https://localhost:8080/",
          "height": 34
        }
      },
      "source": [
        "#AUC \n",
        "random_score.mean()"
      ],
      "execution_count": 0,
      "outputs": [
        {
          "output_type": "execute_result",
          "data": {
            "text/plain": [
              "0.9035897050309252"
            ]
          },
          "metadata": {
            "tags": []
          },
          "execution_count": 121
        }
      ]
    },
    {
      "cell_type": "markdown",
      "metadata": {
        "id": "z-126WlLWynk",
        "colab_type": "text"
      },
      "source": [
        "**Evaluate the performance of the random search model on the test set**"
      ]
    },
    {
      "cell_type": "code",
      "metadata": {
        "id": "qEfIwCStXIGG",
        "colab_type": "code",
        "colab": {}
      },
      "source": [
        "#predict\n",
        "random_predict = rf_random.predict(Y_train)"
      ],
      "execution_count": 0,
      "outputs": []
    },
    {
      "cell_type": "code",
      "metadata": {
        "id": "VUD4CBtBW2Vj",
        "colab_type": "code",
        "outputId": "376c0b77-205e-44cb-8483-89671c2028bf",
        "colab": {
          "base_uri": "https://localhost:8080/",
          "height": 34
        }
      },
      "source": [
        "#accuracy\n",
        "accuracy_score(random_predict,Y_labels)"
      ],
      "execution_count": 0,
      "outputs": [
        {
          "output_type": "execute_result",
          "data": {
            "text/plain": [
              "0.8731750109655994"
            ]
          },
          "metadata": {
            "tags": []
          },
          "execution_count": 123
        }
      ]
    },
    {
      "cell_type": "code",
      "metadata": {
        "id": "jA3gPLfEW2Qw",
        "colab_type": "code",
        "outputId": "e34e54a3-1271-4982-94ee-cdb8aa64c053",
        "colab": {
          "base_uri": "https://localhost:8080/",
          "height": 34
        }
      },
      "source": [
        "#recall\n",
        "recall_score(Y_labels,random_predict)"
      ],
      "execution_count": 0,
      "outputs": [
        {
          "output_type": "execute_result",
          "data": {
            "text/plain": [
              "0.5690111052353253"
            ]
          },
          "metadata": {
            "tags": []
          },
          "execution_count": 124
        }
      ]
    },
    {
      "cell_type": "code",
      "metadata": {
        "id": "6iiSg8ZIW2La",
        "colab_type": "code",
        "outputId": "5c4a464d-8997-4f48-ef3d-a828ad0b3438",
        "colab": {
          "base_uri": "https://localhost:8080/",
          "height": 34
        }
      },
      "source": [
        "#Precision\n",
        "precision_score(Y_labels,random_predict)"
      ],
      "execution_count": 0,
      "outputs": [
        {
          "output_type": "execute_result",
          "data": {
            "text/plain": [
              "0.9535384225851373"
            ]
          },
          "metadata": {
            "tags": []
          },
          "execution_count": 125
        }
      ]
    },
    {
      "cell_type": "code",
      "metadata": {
        "id": "6O3I4Hp-W2BJ",
        "colab_type": "code",
        "outputId": "db8ebcdf-7c48-4289-c7f4-f9a08420ebdd",
        "colab": {
          "base_uri": "https://localhost:8080/",
          "height": 34
        }
      },
      "source": [
        "#f1 score\n",
        "f1_score(Y_labels,random_predict)"
      ],
      "execution_count": 0,
      "outputs": [
        {
          "output_type": "execute_result",
          "data": {
            "text/plain": [
              "0.7127176381529144"
            ]
          },
          "metadata": {
            "tags": []
          },
          "execution_count": 126
        }
      ]
    },
    {
      "cell_type": "markdown",
      "metadata": {
        "id": "HJER49wg0AoA",
        "colab_type": "text"
      },
      "source": [
        "### Grid Search\n",
        "Grid search is a technique which tends to find the right set of hyperparameters for the particular model.Random search allows us to narrow down the range for each hyperparameter. we can explicitly specify every combination of settings to try, using GridSearchCV."
      ]
    },
    {
      "cell_type": "code",
      "metadata": {
        "id": "4LA2F-y0xazE",
        "colab_type": "code",
        "colab": {}
      },
      "source": [
        "from sklearn.model_selection import GridSearchCV\n",
        "# Create the parameter grid based on the results of random search \n",
        "from sklearn.model_selection import GridSearchCV\n",
        "# Create the parameter grid based on the results of random search \n",
        "param_grid = [\n",
        "{'n_estimators': [10,25], \n",
        " 'max_features': [5, 10], \n",
        " 'max_depth': [10, 50, None], \n",
        " 'bootstrap': [True, False],\n",
        " 'min_samples_leaf': [1, 3, 5],\n",
        "    'min_samples_split': [5,8, 10],}\n",
        "]"
      ],
      "execution_count": 0,
      "outputs": []
    },
    {
      "cell_type": "code",
      "metadata": {
        "id": "ORnv8JD_mW6H",
        "colab_type": "code",
        "colab": {}
      },
      "source": [
        "# Instantiate the grid search model\n",
        "rf_grid_search = GridSearchCV(estimator = base_rf, param_grid = param_grid, \n",
        "                          cv = 3,scoring='roc_auc' ,n_jobs = -1, verbose = 2)"
      ],
      "execution_count": 0,
      "outputs": []
    },
    {
      "cell_type": "code",
      "metadata": {
        "id": "hxMDcftrmeku",
        "colab_type": "code",
        "colab": {}
      },
      "source": [
        "# Fit the grid search model\n",
        "rf_grid_search.fit(X_train,X_labels)"
      ],
      "execution_count": 0,
      "outputs": []
    },
    {
      "cell_type": "code",
      "metadata": {
        "id": "wAi_PLKgrFKm",
        "colab_type": "code",
        "outputId": "e333c91b-ffb7-4b5f-c8a6-a47bfbc958fb",
        "colab": {
          "base_uri": "https://localhost:8080/",
          "height": 34
        }
      },
      "source": [
        "#the best params\n",
        "rf_grid_search.best_params_"
      ],
      "execution_count": 0,
      "outputs": [
        {
          "output_type": "execute_result",
          "data": {
            "text/plain": [
              "{'bootstrap': False, 'max_depth': 10, 'max_features': 10, 'n_estimators': 25}"
            ]
          },
          "metadata": {
            "tags": []
          },
          "execution_count": 115
        }
      ]
    },
    {
      "cell_type": "code",
      "metadata": {
        "id": "4hgSfCRUrmcT",
        "colab_type": "code",
        "colab": {}
      },
      "source": [
        "#set the best model to best_grid\n",
        "best_grid = rf_grid_search.best_estimator_"
      ],
      "execution_count": 0,
      "outputs": []
    },
    {
      "cell_type": "code",
      "metadata": {
        "id": "dODaDTgerz9u",
        "colab_type": "code",
        "colab": {}
      },
      "source": [
        "#make predictions with the best model\n",
        "predictions =  best_grid.predict(Y_train)"
      ],
      "execution_count": 0,
      "outputs": []
    },
    {
      "cell_type": "markdown",
      "metadata": {
        "id": "N1-QcFWEInTw",
        "colab_type": "text"
      },
      "source": [
        "**Evaluate** the Gridsearch model"
      ]
    },
    {
      "cell_type": "code",
      "metadata": {
        "id": "OSWdIMOBsTN4",
        "colab_type": "code",
        "outputId": "309ea6fe-b512-4c15-95d2-27a1bd5ea662",
        "colab": {
          "base_uri": "https://localhost:8080/",
          "height": 34
        }
      },
      "source": [
        "#accuracy\n",
        "accuracy_score(predictions,Y_labels)"
      ],
      "execution_count": 0,
      "outputs": [
        {
          "output_type": "execute_result",
          "data": {
            "text/plain": [
              "0.8731123503978946"
            ]
          },
          "metadata": {
            "tags": []
          },
          "execution_count": 118
        }
      ]
    },
    {
      "cell_type": "code",
      "metadata": {
        "id": "llQYX6mJsVkl",
        "colab_type": "code",
        "outputId": "db6f31a4-d3e8-47a3-f0a1-37485f428849",
        "colab": {
          "base_uri": "https://localhost:8080/",
          "height": 34
        }
      },
      "source": [
        "#F1\n",
        "f1_score(Y_labels,predictions)"
      ],
      "execution_count": 0,
      "outputs": [
        {
          "output_type": "execute_result",
          "data": {
            "text/plain": [
              "0.7134028400245318"
            ]
          },
          "metadata": {
            "tags": []
          },
          "execution_count": 119
        }
      ]
    },
    {
      "cell_type": "code",
      "metadata": {
        "id": "E5eoGVHrsf6c",
        "colab_type": "code",
        "outputId": "940405c9-cd9b-45d0-d2c1-eb3a6d364ea3",
        "colab": {
          "base_uri": "https://localhost:8080/",
          "height": 34
        }
      },
      "source": [
        "#recall\n",
        "recall_score(Y_labels,predictions)"
      ],
      "execution_count": 0,
      "outputs": [
        {
          "output_type": "execute_result",
          "data": {
            "text/plain": [
              "0.5712019339729546"
            ]
          },
          "metadata": {
            "tags": []
          },
          "execution_count": 120
        }
      ]
    },
    {
      "cell_type": "code",
      "metadata": {
        "id": "5IJTWMEDsldK",
        "colab_type": "code",
        "outputId": "b8cfa731-192e-4a2c-b4eb-879f1482c365",
        "colab": {
          "base_uri": "https://localhost:8080/",
          "height": 34
        }
      },
      "source": [
        "#precision\n",
        "precision_score(Y_labels,predictions)"
      ],
      "execution_count": 0,
      "outputs": [
        {
          "output_type": "execute_result",
          "data": {
            "text/plain": [
              "0.9498743718592965"
            ]
          },
          "metadata": {
            "tags": []
          },
          "execution_count": 121
        }
      ]
    },
    {
      "cell_type": "markdown",
      "metadata": {
        "id": "H5633QjkRauu",
        "colab_type": "text"
      },
      "source": [
        "**Manual tuning**\n",
        "from the parameters obtained from the grid search and random search i was able to find a better performing model using manual tuning. i did others which will not be represented in this notebook as some took too long to run."
      ]
    },
    {
      "cell_type": "code",
      "metadata": {
        "id": "0oRxXrl5SLxG",
        "colab_type": "code",
        "colab": {}
      },
      "source": [
        "#manual tuning model\n",
        "best_rf = RandomForestClassifier(random_state=42,bootstrap=False,max_depth=50,\n",
        "                                  max_features=20,n_estimators=100)"
      ],
      "execution_count": 0,
      "outputs": []
    },
    {
      "cell_type": "code",
      "metadata": {
        "id": "_XcU9SgeSbEC",
        "colab_type": "code",
        "outputId": "5f1f17bd-cfa4-4d92-e428-d5c1d3440b86",
        "colab": {
          "base_uri": "https://localhost:8080/",
          "height": 119
        }
      },
      "source": [
        "best_rf.fit(X_train,X_labels)"
      ],
      "execution_count": 0,
      "outputs": [
        {
          "output_type": "execute_result",
          "data": {
            "text/plain": [
              "RandomForestClassifier(bootstrap=False, class_weight=None, criterion='gini',\n",
              "            max_depth=50, max_features=20, max_leaf_nodes=None,\n",
              "            min_impurity_decrease=0.0, min_impurity_split=None,\n",
              "            min_samples_leaf=1, min_samples_split=2,\n",
              "            min_weight_fraction_leaf=0.0, n_estimators=100, n_jobs=None,\n",
              "            oob_score=False, random_state=42, verbose=0, warm_start=False)"
            ]
          },
          "metadata": {
            "tags": []
          },
          "execution_count": 145
        }
      ]
    },
    {
      "cell_type": "code",
      "metadata": {
        "id": "gv6bRoB5Sg4p",
        "colab_type": "code",
        "colab": {}
      },
      "source": [
        "#score after traing\n",
        "best_score = cross_val_score(best_rf,X_train, X_labels,\n",
        "                         scoring=\"roc_auc\", cv=3)"
      ],
      "execution_count": 0,
      "outputs": []
    },
    {
      "cell_type": "code",
      "metadata": {
        "id": "3ILtwqrNS9oA",
        "colab_type": "code",
        "colab": {}
      },
      "source": [
        "#auc score\n",
        "best_score.mean()"
      ],
      "execution_count": 0,
      "outputs": []
    },
    {
      "cell_type": "markdown",
      "metadata": {
        "id": "TckrkVfOSkuU",
        "colab_type": "text"
      },
      "source": [
        "**Evaluate the model**"
      ]
    },
    {
      "cell_type": "code",
      "metadata": {
        "id": "fCYX3eTWSnU6",
        "colab_type": "code",
        "colab": {}
      },
      "source": [
        "#prediction\n",
        "Best_predict = best_rf.predict(Y_train)"
      ],
      "execution_count": 0,
      "outputs": []
    },
    {
      "cell_type": "code",
      "metadata": {
        "id": "3WML03OmTYiv",
        "colab_type": "code",
        "outputId": "693d247b-90bd-497b-9efa-f33190ce530c",
        "colab": {
          "base_uri": "https://localhost:8080/",
          "height": 34
        }
      },
      "source": [
        "#accuracy\n",
        "accuracy_score(Best_predict,Y_labels)"
      ],
      "execution_count": 0,
      "outputs": [
        {
          "output_type": "execute_result",
          "data": {
            "text/plain": [
              "0.8701673037157717"
            ]
          },
          "metadata": {
            "tags": []
          },
          "execution_count": 150
        }
      ]
    },
    {
      "cell_type": "code",
      "metadata": {
        "id": "VJd1cfMHTYaC",
        "colab_type": "code",
        "outputId": "7eee6454-f8b5-4a9d-fca0-a5fa9ae7d188",
        "colab": {
          "base_uri": "https://localhost:8080/",
          "height": 34
        }
      },
      "source": [
        "#F1\n",
        "f1_score(Y_labels,Best_predict)"
      ],
      "execution_count": 0,
      "outputs": [
        {
          "output_type": "execute_result",
          "data": {
            "text/plain": [
              "0.7188093730208993"
            ]
          },
          "metadata": {
            "tags": []
          },
          "execution_count": 151
        }
      ]
    },
    {
      "cell_type": "code",
      "metadata": {
        "id": "rVHFblnPTYQM",
        "colab_type": "code",
        "outputId": "d4f90b57-6ba1-4e65-87c5-92a3eb6d9f9a",
        "colab": {
          "base_uri": "https://localhost:8080/",
          "height": 34
        }
      },
      "source": [
        "#precision\n",
        "precision_score(Y_labels,Best_predict)"
      ],
      "execution_count": 0,
      "outputs": [
        {
          "output_type": "execute_result",
          "data": {
            "text/plain": [
              "0.8958168902920284"
            ]
          },
          "metadata": {
            "tags": []
          },
          "execution_count": 152
        }
      ]
    },
    {
      "cell_type": "code",
      "metadata": {
        "id": "mAOq_HCwTguH",
        "colab_type": "code",
        "outputId": "df8cb010-d65c-43a6-c7ca-dbb0bfa4b8d6",
        "colab": {
          "base_uri": "https://localhost:8080/",
          "height": 34
        }
      },
      "source": [
        "#recall\n",
        "recall_score(Y_labels,Best_predict)"
      ],
      "execution_count": 0,
      "outputs": [
        {
          "output_type": "execute_result",
          "data": {
            "text/plain": [
              "0.600211528291909"
            ]
          },
          "metadata": {
            "tags": []
          },
          "execution_count": 153
        }
      ]
    },
    {
      "cell_type": "markdown",
      "metadata": {
        "id": "Sc1-3RhetnjS",
        "colab_type": "text"
      },
      "source": [
        "### Balance the classes and train on the best performing model\n",
        "\n",
        "Oversampling and undersampling both have major drawbacks like prone to overfitting in oversampling minority class and loss of information by reducing the majority class.\n",
        "the technique i will be using to balance the data set is:\n",
        "\n",
        "* **Synthetic Minority Oversampling Technique (SMOTE):** It over-samples the minority class but using synthesized examples. It operates on feature space not the data space.\n",
        "i will be using a library - imbalanced learn to perform this operations"
      ]
    },
    {
      "cell_type": "code",
      "metadata": {
        "id": "YNbKiEEfUoUF",
        "colab_type": "code",
        "colab": {}
      },
      "source": [
        "from imblearn.pipeline import make_pipeline\n",
        "from imblearn.over_sampling import SMOTE\n",
        "from sklearn.preprocessing import RobustScaler"
      ],
      "execution_count": 0,
      "outputs": []
    },
    {
      "cell_type": "code",
      "metadata": {
        "id": "8X21Ur_rWYpu",
        "colab_type": "code",
        "colab": {}
      },
      "source": [
        "best_rf = RandomForestClassifier(random_state=42,bootstrap=False,max_depth=50,\n",
        "                                  max_features=20,n_estimators=100)"
      ],
      "execution_count": 0,
      "outputs": []
    },
    {
      "cell_type": "code",
      "metadata": {
        "id": "VbESKXuiUn_D",
        "colab_type": "code",
        "colab": {}
      },
      "source": [
        "#perform SMOTE)\n",
        "#first scale the data\n",
        "scalar = RobustScaler()\n",
        "X_train = scalar.fit_transform(X_train)\n",
        "Y_train = scalar.fit_transform(Y_train)"
      ],
      "execution_count": 0,
      "outputs": []
    },
    {
      "cell_type": "code",
      "metadata": {
        "id": "yoC_sCaRdmTZ",
        "colab_type": "code",
        "colab": {}
      },
      "source": [
        "smote = SMOTE(random_state=42,ratio='minority')"
      ],
      "execution_count": 0,
      "outputs": []
    },
    {
      "cell_type": "code",
      "metadata": {
        "id": "-NOk6_jjeIKM",
        "colab_type": "code",
        "colab": {}
      },
      "source": [
        "#res means resampled\n",
        "X_train_res, X_labels_res = smote.fit_sample(X_train, X_labels)"
      ],
      "execution_count": 0,
      "outputs": []
    },
    {
      "cell_type": "code",
      "metadata": {
        "id": "iilGQzDeeH5j",
        "colab_type": "code",
        "outputId": "e4aed3a5-a24a-41c8-c53a-8ef2e88ee423",
        "colab": {
          "base_uri": "https://localhost:8080/",
          "height": 119
        }
      },
      "source": [
        "#train on resampled data\n",
        "best_rf.fit(X_train_res, X_labels_res)"
      ],
      "execution_count": 0,
      "outputs": [
        {
          "output_type": "execute_result",
          "data": {
            "text/plain": [
              "RandomForestClassifier(bootstrap=False, class_weight=None, criterion='gini',\n",
              "            max_depth=50, max_features=20, max_leaf_nodes=None,\n",
              "            min_impurity_decrease=0.0, min_impurity_split=None,\n",
              "            min_samples_leaf=1, min_samples_split=2,\n",
              "            min_weight_fraction_leaf=0.0, n_estimators=100, n_jobs=None,\n",
              "            oob_score=False, random_state=42, verbose=0, warm_start=False)"
            ]
          },
          "metadata": {
            "tags": []
          },
          "execution_count": 172
        }
      ]
    },
    {
      "cell_type": "code",
      "metadata": {
        "id": "ISya_XwWijw3",
        "colab_type": "code",
        "colab": {}
      },
      "source": [
        "#score model\n",
        "score = cross_val_score(best_rf,X_train_res, X_labels_res,\n",
        "                         scoring=\"roc_auc\", cv=3)"
      ],
      "execution_count": 0,
      "outputs": []
    },
    {
      "cell_type": "code",
      "metadata": {
        "id": "GACh2N2jj24K",
        "colab_type": "code",
        "outputId": "4f25fbf1-e2a6-4fec-9a87-3a1ed15e44bd",
        "colab": {
          "base_uri": "https://localhost:8080/",
          "height": 34
        }
      },
      "source": [
        "#AUC\n",
        "score.mean()"
      ],
      "execution_count": 0,
      "outputs": [
        {
          "output_type": "execute_result",
          "data": {
            "text/plain": [
              "0.9723146572915938"
            ]
          },
          "metadata": {
            "tags": []
          },
          "execution_count": 175
        }
      ]
    },
    {
      "cell_type": "markdown",
      "metadata": {
        "id": "IQ2ox_0yh3Z0",
        "colab_type": "text"
      },
      "source": [
        "**Evaluate  model**"
      ]
    },
    {
      "cell_type": "code",
      "metadata": {
        "id": "3kVbpC6Wi1oi",
        "colab_type": "code",
        "colab": {}
      },
      "source": [
        "#predict\n",
        "res_predict = best_rf.predict(Y_train)"
      ],
      "execution_count": 0,
      "outputs": []
    },
    {
      "cell_type": "code",
      "metadata": {
        "id": "QaKyr6ZTj-gC",
        "colab_type": "code",
        "outputId": "9c7a3e96-eb0d-4ddb-ea83-017afe555b38",
        "colab": {
          "base_uri": "https://localhost:8080/",
          "height": 34
        }
      },
      "source": [
        "#recall\n",
        "recall_score(Y_labels,res_predict)"
      ],
      "execution_count": 0,
      "outputs": [
        {
          "output_type": "execute_result",
          "data": {
            "text/plain": [
              "0.6447835612298859"
            ]
          },
          "metadata": {
            "tags": []
          },
          "execution_count": 177
        }
      ]
    },
    {
      "cell_type": "code",
      "metadata": {
        "id": "nBRajxhAnTJv",
        "colab_type": "code",
        "outputId": "9e9a20fa-8a2f-4334-e129-30f19c4e4b19",
        "colab": {
          "base_uri": "https://localhost:8080/",
          "height": 34
        }
      },
      "source": [
        "#precision\n",
        "precision_score(Y_labels,res_predict)"
      ],
      "execution_count": 0,
      "outputs": [
        {
          "output_type": "execute_result",
          "data": {
            "text/plain": [
              "0.8267945364719558"
            ]
          },
          "metadata": {
            "tags": []
          },
          "execution_count": 179
        }
      ]
    },
    {
      "cell_type": "code",
      "metadata": {
        "id": "k_focmQgnZ9a",
        "colab_type": "code",
        "outputId": "609089d4-9191-4292-f426-048c072c6709",
        "colab": {
          "base_uri": "https://localhost:8080/",
          "height": 34
        }
      },
      "source": [
        "#F1\n",
        "f1_score(Y_labels,res_predict)"
      ],
      "execution_count": 0,
      "outputs": [
        {
          "output_type": "execute_result",
          "data": {
            "text/plain": [
              "0.7245331069609506"
            ]
          },
          "metadata": {
            "tags": []
          },
          "execution_count": 181
        }
      ]
    },
    {
      "cell_type": "code",
      "metadata": {
        "id": "W5pEjNupnf_I",
        "colab_type": "code",
        "outputId": "511f2662-0a55-4c4c-a7a3-26c25140f16f",
        "colab": {
          "base_uri": "https://localhost:8080/",
          "height": 34
        }
      },
      "source": [
        "#accuracy\n",
        "accuracy_score(res_predict,Y_labels)"
      ],
      "execution_count": 0,
      "outputs": [
        {
          "output_type": "execute_result",
          "data": {
            "text/plain": [
              "0.8644443051987384"
            ]
          },
          "metadata": {
            "tags": []
          },
          "execution_count": 183
        }
      ]
    },
    {
      "cell_type": "markdown",
      "metadata": {
        "id": "-gARYWgwxekx",
        "colab_type": "text"
      },
      "source": [
        "## 5.  Model Evaluation and Comparision"
      ]
    },
    {
      "cell_type": "markdown",
      "metadata": {
        "id": "1-jyIziM3_b0",
        "colab_type": "text"
      },
      "source": [
        "Comparing the performance of models at training and testing.\n",
        "The business problem being to reduce the risk of Carbon losing money due to clients defaulting on loans, My focus was to build a model that was geared towards having a High recall(predicting positvie values as positive) and High AUC, accuracy is no longer a good measure of performance for different models because if we simply predict all examples to belong to the negative class , we would achieve a High accuray always. After building the base model , i performed some Hyperparameter tuning to find a model with a better performance, i was able to settle on a model with recall of  0.6. i then balanced the data set using SMOTE technique to oversample the minority class. the final model had the highest** Precision : 0.83,** **Accuracy : 0.86**\n",
        "**Recall : 0.64**, and an **AUC : of  0.9**. i Know further tuning could be performed on the model but that was not possible for me since, some of the hyperparamters i tried using took too long to Train aslo the random and gridsearch ran far too long. i'll see how well my NN classifier performs in the other notebook."
      ]
    },
    {
      "cell_type": "code",
      "metadata": {
        "id": "VYkz0PS-oAEX",
        "colab_type": "code",
        "colab": {}
      },
      "source": [
        ""
      ],
      "execution_count": 0,
      "outputs": []
    }
  ]
}